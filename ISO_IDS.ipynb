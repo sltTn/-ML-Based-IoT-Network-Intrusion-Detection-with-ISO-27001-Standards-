{
  "cells": [
    {
      "cell_type": "code",
      "execution_count": null,
      "metadata": {
        "id": "T9fRBVz8j7fG"
      },
      "outputs": [],
      "source": [
        "import warnings\n",
        "warnings.filterwarnings(\"ignore\")\n",
        "import numpy as np\n",
        "import pandas as pd\n",
        "import seaborn as sns\n",
        "import matplotlib.pyplot as plt\n",
        "import seaborn as sns\n",
        "import matplotlib.pyplot as plt\n",
        "from sklearn.preprocessing import LabelEncoder\n",
        "from sklearn.model_selection import train_test_split\n",
        "from sklearn.metrics import classification_report,confusion_matrix,accuracy_score,precision_recall_fscore_support\n",
        "from sklearn.metrics import f1_score\n",
        "from sklearn.ensemble import RandomForestClassifier,ExtraTreesClassifier\n",
        "from sklearn.tree import DecisionTreeClassifier\n",
        "import xgboost as xgb\n",
        "from xgboost import plot_importance\n",
        "from pandas import Series, DataFrame\n",
        "from sklearn.discriminant_analysis import LinearDiscriminantAnalysis"
      ]
    },
    {
      "cell_type": "code",
      "execution_count": null,
      "metadata": {
        "id": "CfMo9-cZ4bsk",
        "colab": {
          "base_uri": "https://localhost:8080/"
        },
        "outputId": "bfb68a60-61c8-4db6-d29a-c3eb40d7c739"
      },
      "outputs": [
        {
          "output_type": "stream",
          "name": "stdout",
          "text": [
            "Mounted at /content/gdrive\n"
          ]
        }
      ],
      "source": [
        "#Read dataset and mount dataset in google drive\n",
        "from google.colab import drive\n",
        "drive.mount('/content/gdrive')"
      ]
    },
    {
      "cell_type": "code",
      "execution_count": null,
      "metadata": {
        "colab": {
          "base_uri": "https://localhost:8080/",
          "height": 496
        },
        "id": "b1v4Ejj3khJk",
        "outputId": "d730efcf-06ff-43bb-ac96-03fca81f9cf5"
      },
      "outputs": [
        {
          "output_type": "execute_result",
          "data": {
            "text/plain": [
              "         Destination Port  Flow Duration  Total Fwd Packets  \\\n",
              "0                    3268      112740690                 32   \n",
              "1                     389      112740560                 32   \n",
              "2                       0      113757377                545   \n",
              "3                    5355         100126                 22   \n",
              "4                       0          54760                  4   \n",
              "...                   ...            ...                ...   \n",
              "1964882                53            205                  2   \n",
              "1964883                53            165                  2   \n",
              "1964884               445         247267                 16   \n",
              "1964885                53            261                  2   \n",
              "1964886               443          55637                  7   \n",
              "\n",
              "         Total Backward Packets  Total Length of Fwd Packets  \\\n",
              "0                            16                         6448   \n",
              "1                            16                         6448   \n",
              "2                             0                            0   \n",
              "3                             0                          616   \n",
              "4                             0                            0   \n",
              "...                         ...                          ...   \n",
              "1964882                       2                           74   \n",
              "1964883                       2                          104   \n",
              "1964884                      12                         1648   \n",
              "1964885                       2                           64   \n",
              "1964886                       5                          373   \n",
              "\n",
              "         Total Length of Bwd Packets  Fwd Packet Length Max  \\\n",
              "0                               1152                    403   \n",
              "1                               5056                    403   \n",
              "2                                  0                      0   \n",
              "3                                  0                     28   \n",
              "4                                  0                      0   \n",
              "...                              ...                    ...   \n",
              "1964882                          202                     37   \n",
              "1964883                          224                     52   \n",
              "1964884                         1908                    252   \n",
              "1964885                           96                     32   \n",
              "1964886                         5731                    198   \n",
              "\n",
              "         Fwd Packet Length Min  Fwd Packet Length Mean  Fwd Packet Length Std  \\\n",
              "0                            0              201.500000             204.724205   \n",
              "1                            0              201.500000             204.724205   \n",
              "2                            0                0.000000               0.000000   \n",
              "3                           28               28.000000               0.000000   \n",
              "4                            0                0.000000               0.000000   \n",
              "...                        ...                     ...                    ...   \n",
              "1964882                     37               37.000000               0.000000   \n",
              "1964883                     52               52.000000               0.000000   \n",
              "1964884                      0              103.000000              88.296470   \n",
              "1964885                     32               32.000000               0.000000   \n",
              "1964886                      0               53.285714              77.753273   \n",
              "\n",
              "         ...  min_seg_size_forward   Active Mean    Active Std  Active Max  \\\n",
              "0        ...                    32  3.594286e+02  1.199802e+01         380   \n",
              "1        ...                    32  3.202857e+02  1.574499e+01         330   \n",
              "2        ...                     0  9.361829e+06  7.324646e+06    18900000   \n",
              "3        ...                    32  0.000000e+00  0.000000e+00           0   \n",
              "4        ...                     0  0.000000e+00  0.000000e+00           0   \n",
              "...      ...                   ...           ...           ...         ...   \n",
              "1964882  ...                    20  0.000000e+00  0.000000e+00           0   \n",
              "1964883  ...                    20  0.000000e+00  0.000000e+00           0   \n",
              "1964884  ...                    20  0.000000e+00  0.000000e+00           0   \n",
              "1964885  ...                    32  0.000000e+00  0.000000e+00           0   \n",
              "1964886  ...                    20  0.000000e+00  0.000000e+00           0   \n",
              "\n",
              "         Active Min   Idle Mean      Idle Std  Idle Max  Idle Min   Label  \n",
              "0               343  16100000.0  4.988048e+05  16400000  15400000  BENIGN  \n",
              "1               285  16100000.0  4.987937e+05  16400000  15400000  BENIGN  \n",
              "2                19  12200000.0  6.935824e+06  20800000   5504997  BENIGN  \n",
              "3                 0         0.0  0.000000e+00         0         0  BENIGN  \n",
              "4                 0         0.0  0.000000e+00         0         0  BENIGN  \n",
              "...             ...         ...           ...       ...       ...     ...  \n",
              "1964882           0         0.0  0.000000e+00         0         0  BENIGN  \n",
              "1964883           0         0.0  0.000000e+00         0         0  BENIGN  \n",
              "1964884           0         0.0  0.000000e+00         0         0  BENIGN  \n",
              "1964885           0         0.0  0.000000e+00         0         0  BENIGN  \n",
              "1964886           0         0.0  0.000000e+00         0         0  BENIGN  \n",
              "\n",
              "[1964887 rows x 79 columns]"
            ],
            "text/html": [
              "\n",
              "  <div id=\"df-d832ac1d-04fd-4509-8f5f-6fe8f58ae4c6\" class=\"colab-df-container\">\n",
              "    <div>\n",
              "<style scoped>\n",
              "    .dataframe tbody tr th:only-of-type {\n",
              "        vertical-align: middle;\n",
              "    }\n",
              "\n",
              "    .dataframe tbody tr th {\n",
              "        vertical-align: top;\n",
              "    }\n",
              "\n",
              "    .dataframe thead th {\n",
              "        text-align: right;\n",
              "    }\n",
              "</style>\n",
              "<table border=\"1\" class=\"dataframe\">\n",
              "  <thead>\n",
              "    <tr style=\"text-align: right;\">\n",
              "      <th></th>\n",
              "      <th>Destination Port</th>\n",
              "      <th>Flow Duration</th>\n",
              "      <th>Total Fwd Packets</th>\n",
              "      <th>Total Backward Packets</th>\n",
              "      <th>Total Length of Fwd Packets</th>\n",
              "      <th>Total Length of Bwd Packets</th>\n",
              "      <th>Fwd Packet Length Max</th>\n",
              "      <th>Fwd Packet Length Min</th>\n",
              "      <th>Fwd Packet Length Mean</th>\n",
              "      <th>Fwd Packet Length Std</th>\n",
              "      <th>...</th>\n",
              "      <th>min_seg_size_forward</th>\n",
              "      <th>Active Mean</th>\n",
              "      <th>Active Std</th>\n",
              "      <th>Active Max</th>\n",
              "      <th>Active Min</th>\n",
              "      <th>Idle Mean</th>\n",
              "      <th>Idle Std</th>\n",
              "      <th>Idle Max</th>\n",
              "      <th>Idle Min</th>\n",
              "      <th>Label</th>\n",
              "    </tr>\n",
              "  </thead>\n",
              "  <tbody>\n",
              "    <tr>\n",
              "      <th>0</th>\n",
              "      <td>3268</td>\n",
              "      <td>112740690</td>\n",
              "      <td>32</td>\n",
              "      <td>16</td>\n",
              "      <td>6448</td>\n",
              "      <td>1152</td>\n",
              "      <td>403</td>\n",
              "      <td>0</td>\n",
              "      <td>201.500000</td>\n",
              "      <td>204.724205</td>\n",
              "      <td>...</td>\n",
              "      <td>32</td>\n",
              "      <td>3.594286e+02</td>\n",
              "      <td>1.199802e+01</td>\n",
              "      <td>380</td>\n",
              "      <td>343</td>\n",
              "      <td>16100000.0</td>\n",
              "      <td>4.988048e+05</td>\n",
              "      <td>16400000</td>\n",
              "      <td>15400000</td>\n",
              "      <td>BENIGN</td>\n",
              "    </tr>\n",
              "    <tr>\n",
              "      <th>1</th>\n",
              "      <td>389</td>\n",
              "      <td>112740560</td>\n",
              "      <td>32</td>\n",
              "      <td>16</td>\n",
              "      <td>6448</td>\n",
              "      <td>5056</td>\n",
              "      <td>403</td>\n",
              "      <td>0</td>\n",
              "      <td>201.500000</td>\n",
              "      <td>204.724205</td>\n",
              "      <td>...</td>\n",
              "      <td>32</td>\n",
              "      <td>3.202857e+02</td>\n",
              "      <td>1.574499e+01</td>\n",
              "      <td>330</td>\n",
              "      <td>285</td>\n",
              "      <td>16100000.0</td>\n",
              "      <td>4.987937e+05</td>\n",
              "      <td>16400000</td>\n",
              "      <td>15400000</td>\n",
              "      <td>BENIGN</td>\n",
              "    </tr>\n",
              "    <tr>\n",
              "      <th>2</th>\n",
              "      <td>0</td>\n",
              "      <td>113757377</td>\n",
              "      <td>545</td>\n",
              "      <td>0</td>\n",
              "      <td>0</td>\n",
              "      <td>0</td>\n",
              "      <td>0</td>\n",
              "      <td>0</td>\n",
              "      <td>0.000000</td>\n",
              "      <td>0.000000</td>\n",
              "      <td>...</td>\n",
              "      <td>0</td>\n",
              "      <td>9.361829e+06</td>\n",
              "      <td>7.324646e+06</td>\n",
              "      <td>18900000</td>\n",
              "      <td>19</td>\n",
              "      <td>12200000.0</td>\n",
              "      <td>6.935824e+06</td>\n",
              "      <td>20800000</td>\n",
              "      <td>5504997</td>\n",
              "      <td>BENIGN</td>\n",
              "    </tr>\n",
              "    <tr>\n",
              "      <th>3</th>\n",
              "      <td>5355</td>\n",
              "      <td>100126</td>\n",
              "      <td>22</td>\n",
              "      <td>0</td>\n",
              "      <td>616</td>\n",
              "      <td>0</td>\n",
              "      <td>28</td>\n",
              "      <td>28</td>\n",
              "      <td>28.000000</td>\n",
              "      <td>0.000000</td>\n",
              "      <td>...</td>\n",
              "      <td>32</td>\n",
              "      <td>0.000000e+00</td>\n",
              "      <td>0.000000e+00</td>\n",
              "      <td>0</td>\n",
              "      <td>0</td>\n",
              "      <td>0.0</td>\n",
              "      <td>0.000000e+00</td>\n",
              "      <td>0</td>\n",
              "      <td>0</td>\n",
              "      <td>BENIGN</td>\n",
              "    </tr>\n",
              "    <tr>\n",
              "      <th>4</th>\n",
              "      <td>0</td>\n",
              "      <td>54760</td>\n",
              "      <td>4</td>\n",
              "      <td>0</td>\n",
              "      <td>0</td>\n",
              "      <td>0</td>\n",
              "      <td>0</td>\n",
              "      <td>0</td>\n",
              "      <td>0.000000</td>\n",
              "      <td>0.000000</td>\n",
              "      <td>...</td>\n",
              "      <td>0</td>\n",
              "      <td>0.000000e+00</td>\n",
              "      <td>0.000000e+00</td>\n",
              "      <td>0</td>\n",
              "      <td>0</td>\n",
              "      <td>0.0</td>\n",
              "      <td>0.000000e+00</td>\n",
              "      <td>0</td>\n",
              "      <td>0</td>\n",
              "      <td>BENIGN</td>\n",
              "    </tr>\n",
              "    <tr>\n",
              "      <th>...</th>\n",
              "      <td>...</td>\n",
              "      <td>...</td>\n",
              "      <td>...</td>\n",
              "      <td>...</td>\n",
              "      <td>...</td>\n",
              "      <td>...</td>\n",
              "      <td>...</td>\n",
              "      <td>...</td>\n",
              "      <td>...</td>\n",
              "      <td>...</td>\n",
              "      <td>...</td>\n",
              "      <td>...</td>\n",
              "      <td>...</td>\n",
              "      <td>...</td>\n",
              "      <td>...</td>\n",
              "      <td>...</td>\n",
              "      <td>...</td>\n",
              "      <td>...</td>\n",
              "      <td>...</td>\n",
              "      <td>...</td>\n",
              "      <td>...</td>\n",
              "    </tr>\n",
              "    <tr>\n",
              "      <th>1964882</th>\n",
              "      <td>53</td>\n",
              "      <td>205</td>\n",
              "      <td>2</td>\n",
              "      <td>2</td>\n",
              "      <td>74</td>\n",
              "      <td>202</td>\n",
              "      <td>37</td>\n",
              "      <td>37</td>\n",
              "      <td>37.000000</td>\n",
              "      <td>0.000000</td>\n",
              "      <td>...</td>\n",
              "      <td>20</td>\n",
              "      <td>0.000000e+00</td>\n",
              "      <td>0.000000e+00</td>\n",
              "      <td>0</td>\n",
              "      <td>0</td>\n",
              "      <td>0.0</td>\n",
              "      <td>0.000000e+00</td>\n",
              "      <td>0</td>\n",
              "      <td>0</td>\n",
              "      <td>BENIGN</td>\n",
              "    </tr>\n",
              "    <tr>\n",
              "      <th>1964883</th>\n",
              "      <td>53</td>\n",
              "      <td>165</td>\n",
              "      <td>2</td>\n",
              "      <td>2</td>\n",
              "      <td>104</td>\n",
              "      <td>224</td>\n",
              "      <td>52</td>\n",
              "      <td>52</td>\n",
              "      <td>52.000000</td>\n",
              "      <td>0.000000</td>\n",
              "      <td>...</td>\n",
              "      <td>20</td>\n",
              "      <td>0.000000e+00</td>\n",
              "      <td>0.000000e+00</td>\n",
              "      <td>0</td>\n",
              "      <td>0</td>\n",
              "      <td>0.0</td>\n",
              "      <td>0.000000e+00</td>\n",
              "      <td>0</td>\n",
              "      <td>0</td>\n",
              "      <td>BENIGN</td>\n",
              "    </tr>\n",
              "    <tr>\n",
              "      <th>1964884</th>\n",
              "      <td>445</td>\n",
              "      <td>247267</td>\n",
              "      <td>16</td>\n",
              "      <td>12</td>\n",
              "      <td>1648</td>\n",
              "      <td>1908</td>\n",
              "      <td>252</td>\n",
              "      <td>0</td>\n",
              "      <td>103.000000</td>\n",
              "      <td>88.296470</td>\n",
              "      <td>...</td>\n",
              "      <td>20</td>\n",
              "      <td>0.000000e+00</td>\n",
              "      <td>0.000000e+00</td>\n",
              "      <td>0</td>\n",
              "      <td>0</td>\n",
              "      <td>0.0</td>\n",
              "      <td>0.000000e+00</td>\n",
              "      <td>0</td>\n",
              "      <td>0</td>\n",
              "      <td>BENIGN</td>\n",
              "    </tr>\n",
              "    <tr>\n",
              "      <th>1964885</th>\n",
              "      <td>53</td>\n",
              "      <td>261</td>\n",
              "      <td>2</td>\n",
              "      <td>2</td>\n",
              "      <td>64</td>\n",
              "      <td>96</td>\n",
              "      <td>32</td>\n",
              "      <td>32</td>\n",
              "      <td>32.000000</td>\n",
              "      <td>0.000000</td>\n",
              "      <td>...</td>\n",
              "      <td>32</td>\n",
              "      <td>0.000000e+00</td>\n",
              "      <td>0.000000e+00</td>\n",
              "      <td>0</td>\n",
              "      <td>0</td>\n",
              "      <td>0.0</td>\n",
              "      <td>0.000000e+00</td>\n",
              "      <td>0</td>\n",
              "      <td>0</td>\n",
              "      <td>BENIGN</td>\n",
              "    </tr>\n",
              "    <tr>\n",
              "      <th>1964886</th>\n",
              "      <td>443</td>\n",
              "      <td>55637</td>\n",
              "      <td>7</td>\n",
              "      <td>5</td>\n",
              "      <td>373</td>\n",
              "      <td>5731</td>\n",
              "      <td>198</td>\n",
              "      <td>0</td>\n",
              "      <td>53.285714</td>\n",
              "      <td>77.753273</td>\n",
              "      <td>...</td>\n",
              "      <td>20</td>\n",
              "      <td>0.000000e+00</td>\n",
              "      <td>0.000000e+00</td>\n",
              "      <td>0</td>\n",
              "      <td>0</td>\n",
              "      <td>0.0</td>\n",
              "      <td>0.000000e+00</td>\n",
              "      <td>0</td>\n",
              "      <td>0</td>\n",
              "      <td>BENIGN</td>\n",
              "    </tr>\n",
              "  </tbody>\n",
              "</table>\n",
              "<p>1964887 rows × 79 columns</p>\n",
              "</div>\n",
              "    <div class=\"colab-df-buttons\">\n",
              "\n",
              "  <div class=\"colab-df-container\">\n",
              "    <button class=\"colab-df-convert\" onclick=\"convertToInteractive('df-d832ac1d-04fd-4509-8f5f-6fe8f58ae4c6')\"\n",
              "            title=\"Convert this dataframe to an interactive table.\"\n",
              "            style=\"display:none;\">\n",
              "\n",
              "  <svg xmlns=\"http://www.w3.org/2000/svg\" height=\"24px\" viewBox=\"0 -960 960 960\">\n",
              "    <path d=\"M120-120v-720h720v720H120Zm60-500h600v-160H180v160Zm220 220h160v-160H400v160Zm0 220h160v-160H400v160ZM180-400h160v-160H180v160Zm440 0h160v-160H620v160ZM180-180h160v-160H180v160Zm440 0h160v-160H620v160Z\"/>\n",
              "  </svg>\n",
              "    </button>\n",
              "\n",
              "  <style>\n",
              "    .colab-df-container {\n",
              "      display:flex;\n",
              "      gap: 12px;\n",
              "    }\n",
              "\n",
              "    .colab-df-convert {\n",
              "      background-color: #E8F0FE;\n",
              "      border: none;\n",
              "      border-radius: 50%;\n",
              "      cursor: pointer;\n",
              "      display: none;\n",
              "      fill: #1967D2;\n",
              "      height: 32px;\n",
              "      padding: 0 0 0 0;\n",
              "      width: 32px;\n",
              "    }\n",
              "\n",
              "    .colab-df-convert:hover {\n",
              "      background-color: #E2EBFA;\n",
              "      box-shadow: 0px 1px 2px rgba(60, 64, 67, 0.3), 0px 1px 3px 1px rgba(60, 64, 67, 0.15);\n",
              "      fill: #174EA6;\n",
              "    }\n",
              "\n",
              "    .colab-df-buttons div {\n",
              "      margin-bottom: 4px;\n",
              "    }\n",
              "\n",
              "    [theme=dark] .colab-df-convert {\n",
              "      background-color: #3B4455;\n",
              "      fill: #D2E3FC;\n",
              "    }\n",
              "\n",
              "    [theme=dark] .colab-df-convert:hover {\n",
              "      background-color: #434B5C;\n",
              "      box-shadow: 0px 1px 3px 1px rgba(0, 0, 0, 0.15);\n",
              "      filter: drop-shadow(0px 1px 2px rgba(0, 0, 0, 0.3));\n",
              "      fill: #FFFFFF;\n",
              "    }\n",
              "  </style>\n",
              "\n",
              "    <script>\n",
              "      const buttonEl =\n",
              "        document.querySelector('#df-d832ac1d-04fd-4509-8f5f-6fe8f58ae4c6 button.colab-df-convert');\n",
              "      buttonEl.style.display =\n",
              "        google.colab.kernel.accessAllowed ? 'block' : 'none';\n",
              "\n",
              "      async function convertToInteractive(key) {\n",
              "        const element = document.querySelector('#df-d832ac1d-04fd-4509-8f5f-6fe8f58ae4c6');\n",
              "        const dataTable =\n",
              "          await google.colab.kernel.invokeFunction('convertToInteractive',\n",
              "                                                    [key], {});\n",
              "        if (!dataTable) return;\n",
              "\n",
              "        const docLinkHtml = 'Like what you see? Visit the ' +\n",
              "          '<a target=\"_blank\" href=https://colab.research.google.com/notebooks/data_table.ipynb>data table notebook</a>'\n",
              "          + ' to learn more about interactive tables.';\n",
              "        element.innerHTML = '';\n",
              "        dataTable['output_type'] = 'display_data';\n",
              "        await google.colab.output.renderOutput(dataTable, element);\n",
              "        const docLink = document.createElement('div');\n",
              "        docLink.innerHTML = docLinkHtml;\n",
              "        element.appendChild(docLink);\n",
              "      }\n",
              "    </script>\n",
              "  </div>\n",
              "\n",
              "\n",
              "<div id=\"df-f2d97bb2-c5d0-4e19-99af-2ac7292916cc\">\n",
              "  <button class=\"colab-df-quickchart\" onclick=\"quickchart('df-f2d97bb2-c5d0-4e19-99af-2ac7292916cc')\"\n",
              "            title=\"Suggest charts.\"\n",
              "            style=\"display:none;\">\n",
              "\n",
              "<svg xmlns=\"http://www.w3.org/2000/svg\" height=\"24px\"viewBox=\"0 0 24 24\"\n",
              "     width=\"24px\">\n",
              "    <g>\n",
              "        <path d=\"M19 3H5c-1.1 0-2 .9-2 2v14c0 1.1.9 2 2 2h14c1.1 0 2-.9 2-2V5c0-1.1-.9-2-2-2zM9 17H7v-7h2v7zm4 0h-2V7h2v10zm4 0h-2v-4h2v4z\"/>\n",
              "    </g>\n",
              "</svg>\n",
              "  </button>\n",
              "\n",
              "<style>\n",
              "  .colab-df-quickchart {\n",
              "      --bg-color: #E8F0FE;\n",
              "      --fill-color: #1967D2;\n",
              "      --hover-bg-color: #E2EBFA;\n",
              "      --hover-fill-color: #174EA6;\n",
              "      --disabled-fill-color: #AAA;\n",
              "      --disabled-bg-color: #DDD;\n",
              "  }\n",
              "\n",
              "  [theme=dark] .colab-df-quickchart {\n",
              "      --bg-color: #3B4455;\n",
              "      --fill-color: #D2E3FC;\n",
              "      --hover-bg-color: #434B5C;\n",
              "      --hover-fill-color: #FFFFFF;\n",
              "      --disabled-bg-color: #3B4455;\n",
              "      --disabled-fill-color: #666;\n",
              "  }\n",
              "\n",
              "  .colab-df-quickchart {\n",
              "    background-color: var(--bg-color);\n",
              "    border: none;\n",
              "    border-radius: 50%;\n",
              "    cursor: pointer;\n",
              "    display: none;\n",
              "    fill: var(--fill-color);\n",
              "    height: 32px;\n",
              "    padding: 0;\n",
              "    width: 32px;\n",
              "  }\n",
              "\n",
              "  .colab-df-quickchart:hover {\n",
              "    background-color: var(--hover-bg-color);\n",
              "    box-shadow: 0 1px 2px rgba(60, 64, 67, 0.3), 0 1px 3px 1px rgba(60, 64, 67, 0.15);\n",
              "    fill: var(--button-hover-fill-color);\n",
              "  }\n",
              "\n",
              "  .colab-df-quickchart-complete:disabled,\n",
              "  .colab-df-quickchart-complete:disabled:hover {\n",
              "    background-color: var(--disabled-bg-color);\n",
              "    fill: var(--disabled-fill-color);\n",
              "    box-shadow: none;\n",
              "  }\n",
              "\n",
              "  .colab-df-spinner {\n",
              "    border: 2px solid var(--fill-color);\n",
              "    border-color: transparent;\n",
              "    border-bottom-color: var(--fill-color);\n",
              "    animation:\n",
              "      spin 1s steps(1) infinite;\n",
              "  }\n",
              "\n",
              "  @keyframes spin {\n",
              "    0% {\n",
              "      border-color: transparent;\n",
              "      border-bottom-color: var(--fill-color);\n",
              "      border-left-color: var(--fill-color);\n",
              "    }\n",
              "    20% {\n",
              "      border-color: transparent;\n",
              "      border-left-color: var(--fill-color);\n",
              "      border-top-color: var(--fill-color);\n",
              "    }\n",
              "    30% {\n",
              "      border-color: transparent;\n",
              "      border-left-color: var(--fill-color);\n",
              "      border-top-color: var(--fill-color);\n",
              "      border-right-color: var(--fill-color);\n",
              "    }\n",
              "    40% {\n",
              "      border-color: transparent;\n",
              "      border-right-color: var(--fill-color);\n",
              "      border-top-color: var(--fill-color);\n",
              "    }\n",
              "    60% {\n",
              "      border-color: transparent;\n",
              "      border-right-color: var(--fill-color);\n",
              "    }\n",
              "    80% {\n",
              "      border-color: transparent;\n",
              "      border-right-color: var(--fill-color);\n",
              "      border-bottom-color: var(--fill-color);\n",
              "    }\n",
              "    90% {\n",
              "      border-color: transparent;\n",
              "      border-bottom-color: var(--fill-color);\n",
              "    }\n",
              "  }\n",
              "</style>\n",
              "\n",
              "  <script>\n",
              "    async function quickchart(key) {\n",
              "      const quickchartButtonEl =\n",
              "        document.querySelector('#' + key + ' button');\n",
              "      quickchartButtonEl.disabled = true;  // To prevent multiple clicks.\n",
              "      quickchartButtonEl.classList.add('colab-df-spinner');\n",
              "      try {\n",
              "        const charts = await google.colab.kernel.invokeFunction(\n",
              "            'suggestCharts', [key], {});\n",
              "      } catch (error) {\n",
              "        console.error('Error during call to suggestCharts:', error);\n",
              "      }\n",
              "      quickchartButtonEl.classList.remove('colab-df-spinner');\n",
              "      quickchartButtonEl.classList.add('colab-df-quickchart-complete');\n",
              "    }\n",
              "    (() => {\n",
              "      let quickchartButtonEl =\n",
              "        document.querySelector('#df-f2d97bb2-c5d0-4e19-99af-2ac7292916cc button');\n",
              "      quickchartButtonEl.style.display =\n",
              "        google.colab.kernel.accessAllowed ? 'block' : 'none';\n",
              "    })();\n",
              "  </script>\n",
              "</div>\n",
              "\n",
              "  <div id=\"id_9498132c-e223-4a61-8795-7f50d07818f9\">\n",
              "    <style>\n",
              "      .colab-df-generate {\n",
              "        background-color: #E8F0FE;\n",
              "        border: none;\n",
              "        border-radius: 50%;\n",
              "        cursor: pointer;\n",
              "        display: none;\n",
              "        fill: #1967D2;\n",
              "        height: 32px;\n",
              "        padding: 0 0 0 0;\n",
              "        width: 32px;\n",
              "      }\n",
              "\n",
              "      .colab-df-generate:hover {\n",
              "        background-color: #E2EBFA;\n",
              "        box-shadow: 0px 1px 2px rgba(60, 64, 67, 0.3), 0px 1px 3px 1px rgba(60, 64, 67, 0.15);\n",
              "        fill: #174EA6;\n",
              "      }\n",
              "\n",
              "      [theme=dark] .colab-df-generate {\n",
              "        background-color: #3B4455;\n",
              "        fill: #D2E3FC;\n",
              "      }\n",
              "\n",
              "      [theme=dark] .colab-df-generate:hover {\n",
              "        background-color: #434B5C;\n",
              "        box-shadow: 0px 1px 3px 1px rgba(0, 0, 0, 0.15);\n",
              "        filter: drop-shadow(0px 1px 2px rgba(0, 0, 0, 0.3));\n",
              "        fill: #FFFFFF;\n",
              "      }\n",
              "    </style>\n",
              "    <button class=\"colab-df-generate\" onclick=\"generateWithVariable('df')\"\n",
              "            title=\"Generate code using this dataframe.\"\n",
              "            style=\"display:none;\">\n",
              "\n",
              "  <svg xmlns=\"http://www.w3.org/2000/svg\" height=\"24px\"viewBox=\"0 0 24 24\"\n",
              "       width=\"24px\">\n",
              "    <path d=\"M7,19H8.4L18.45,9,17,7.55,7,17.6ZM5,21V16.75L18.45,3.32a2,2,0,0,1,2.83,0l1.4,1.43a1.91,1.91,0,0,1,.58,1.4,1.91,1.91,0,0,1-.58,1.4L9.25,21ZM18.45,9,17,7.55Zm-12,3A5.31,5.31,0,0,0,4.9,8.1,5.31,5.31,0,0,0,1,6.5,5.31,5.31,0,0,0,4.9,4.9,5.31,5.31,0,0,0,6.5,1,5.31,5.31,0,0,0,8.1,4.9,5.31,5.31,0,0,0,12,6.5,5.46,5.46,0,0,0,6.5,12Z\"/>\n",
              "  </svg>\n",
              "    </button>\n",
              "    <script>\n",
              "      (() => {\n",
              "      const buttonEl =\n",
              "        document.querySelector('#id_9498132c-e223-4a61-8795-7f50d07818f9 button.colab-df-generate');\n",
              "      buttonEl.style.display =\n",
              "        google.colab.kernel.accessAllowed ? 'block' : 'none';\n",
              "\n",
              "      buttonEl.onclick = () => {\n",
              "        google.colab.notebook.generateWithVariable('df');\n",
              "      }\n",
              "      })();\n",
              "    </script>\n",
              "  </div>\n",
              "\n",
              "    </div>\n",
              "  </div>\n"
            ]
          },
          "metadata": {},
          "execution_count": 34
        }
      ],
      "source": [
        "#Read dataset with port restriction\n",
        "#df = pd.read_csv('/content/gdrive/MyDrive/Nasim/CICIDS_DATASETS/CICIDS2017_sample.csv') ### Haghighat\n",
        "df = pd.read_csv('/content/gdrive/MyDrive/Colab_project/me_cicids.csv') ### Original ###\n",
        "df"
      ]
    },
    {
      "cell_type": "code",
      "execution_count": 72,
      "metadata": {
        "colab": {
          "base_uri": "https://localhost:8080/"
        },
        "id": "6CRN6V-OoNkf",
        "outputId": "2f59b751-8eda-4017-a177-a8bb61745f83"
      },
      "outputs": [
        {
          "output_type": "execute_result",
          "data": {
            "text/plain": [
              "BENIGN          1627748\n",
              "DoS              321769\n",
              "Brute-Force        9152\n",
              "PortScan           2791\n",
              "Web Attack         2143\n",
              "Bot                1248\n",
              "Infiltration         36\n",
              "Name: Label, dtype: int64"
            ]
          },
          "metadata": {},
          "execution_count": 72
        }
      ],
      "source": [
        "df.Label.value_counts()"
      ]
    },
    {
      "cell_type": "markdown",
      "metadata": {
        "id": "YXz_Zo3jkwJo"
      },
      "source": [
        "Preprocessing (normalization by Min-Max)"
      ]
    },
    {
      "cell_type": "code",
      "execution_count": null,
      "metadata": {
        "id": "4yBhW52Dk3M0"
      },
      "outputs": [],
      "source": [
        "# MIN-MAX normalization\n",
        "features = df.dtypes[df.dtypes != 'object'].index\n",
        "df[features] = df[features].apply(\n",
        "    lambda x: (x - x.mean()) / (x.std()))\n",
        "# Fill empty values by 0\n",
        "df = df.fillna(0)"
      ]
    },
    {
      "cell_type": "markdown",
      "metadata": {
        "id": "7OgZrvR0ngT1"
      },
      "source": [
        "split train set and test set"
      ]
    },
    {
      "cell_type": "code",
      "source": [
        "def label_decoder(labels, encoder):\n",
        "  return encoder.inverse_transform(labels)"
      ],
      "metadata": {
        "id": "3dzRoRfFyFP7"
      },
      "execution_count": null,
      "outputs": []
    },
    {
      "cell_type": "code",
      "execution_count": null,
      "metadata": {
        "id": "pcJWNeFsni3k"
      },
      "outputs": [],
      "source": [
        "labelencoder = LabelEncoder()\n",
        "# df.iloc[:, -1] = labelencoder.fit_transform(df.iloc[:, -1])\n",
        "y_true_enc = labelencoder.fit_transform(df.iloc[:, -1])\n",
        "X = df.drop(['Label'],axis=1).values\n",
        "y = y_true_enc.reshape(-1,1)\n",
        "y = np.ravel(y)"
      ]
    },
    {
      "cell_type": "markdown",
      "source": [
        "## Backward Elimination"
      ],
      "metadata": {
        "id": "cCW80q1bA7Nd"
      }
    },
    {
      "cell_type": "code",
      "source": [
        "from sklearn.feature_selection import RFE\n",
        "from sklearn.linear_model import LogisticRegression\n",
        "from yellowbrick.model_selection import feature_importances\n",
        "\n",
        "estimator = RandomForestClassifier(n_estimators=10)\n",
        "selector = RFE(estimator, n_features_to_select=20, step=1)\n",
        "selector.fit(X, y)\n",
        "X_selected = selector.transform(X)\n",
        "pd.DataFrame(X_selected).to_csv('/content/gdrive/MyDrive/ISO-IDS/RFE_features.csv')"
      ],
      "metadata": {
        "id": "jSBXdo-WIasp"
      },
      "execution_count": null,
      "outputs": []
    },
    {
      "cell_type": "code",
      "source": [
        "def LDA(data, labels, n = 6):\n",
        "  print(\">>> Linear Discriminant Analysis:\")\n",
        "  clf = LinearDiscriminantAnalysis(n_components=n)\n",
        "  clf.fit(data, labels)\n",
        "  features = clf.transform(data)\n",
        "  print(f\"\\t# of components: {n}\\n\\t# of Seen Features: {clf.n_features_in_}\\n\\tOriginal: {data.shape}\\n\\tReduced:  {features.shape}\\n\\tClasses:  {clf.classes_}\\n\\tVariation: {clf.explained_variance_ratio_} = {np.sum(clf.explained_variance_ratio_)}\")\n",
        "  return features\n",
        "\n",
        "X_lda = LDA(X_selected,y)\n",
        "pd.DataFrame(X_lda).to_csv('/content/gdrive/MyDrive/ISO-IDS/lda_features.csv')"
      ],
      "metadata": {
        "id": "Tm_57dccoYnK",
        "colab": {
          "base_uri": "https://localhost:8080/"
        },
        "outputId": "08b7b78d-8ec4-4b59-de45-6aaff09c0565"
      },
      "execution_count": null,
      "outputs": [
        {
          "output_type": "stream",
          "name": "stdout",
          "text": [
            ">>> Linear Discriminant Analysis:\n",
            "\t# of components: 6\n",
            "\t# of Seen Features: 20\n",
            "\tOriginal: (1964887, 20)\n",
            "\tReduced:  (1964887, 6)\n",
            "\tClasses:  [0 1 2 3 4 5 6]\n",
            "\tVariation: [9.64331667e-01 1.73145976e-02 9.98306886e-03 4.28510456e-03\n",
            " 3.42520402e-03 6.60357964e-04] = 0.9999999999999998\n"
          ]
        }
      ]
    },
    {
      "cell_type": "code",
      "source": [
        "X.shape"
      ],
      "metadata": {
        "colab": {
          "base_uri": "https://localhost:8080/"
        },
        "id": "x_elh9BtNn7z",
        "outputId": "dc9c8f6f-d3e8-4f42-dc8a-cdd5b0384ac9"
      },
      "execution_count": null,
      "outputs": [
        {
          "output_type": "execute_result",
          "data": {
            "text/plain": [
              "(1964887, 78)"
            ]
          },
          "metadata": {},
          "execution_count": 12
        }
      ]
    },
    {
      "cell_type": "code",
      "source": [
        "X_selected.shape"
      ],
      "metadata": {
        "colab": {
          "base_uri": "https://localhost:8080/"
        },
        "id": "YORS_xJcJZCR",
        "outputId": "212bcc87-636e-43db-cfcf-d6ec9eb5b16b"
      },
      "execution_count": null,
      "outputs": [
        {
          "output_type": "execute_result",
          "data": {
            "text/plain": [
              "(1964887, 20)"
            ]
          },
          "metadata": {},
          "execution_count": 9
        }
      ]
    },
    {
      "cell_type": "code",
      "source": [
        "X_lda.shape"
      ],
      "metadata": {
        "colab": {
          "base_uri": "https://localhost:8080/"
        },
        "id": "lhYMP4Shvh-Z",
        "outputId": "d05200ee-e7f8-48d1-ebbd-f39071761faa"
      },
      "execution_count": null,
      "outputs": [
        {
          "output_type": "execute_result",
          "data": {
            "text/plain": [
              "(1964887, 6)"
            ]
          },
          "metadata": {},
          "execution_count": 11
        }
      ]
    },
    {
      "cell_type": "code",
      "source": [
        " X_train, X_test, y_train, y_test = train_test_split(X_lda,y, train_size = 0.8, test_size = 0.2, random_state = 0,stratify = y)\n",
        " X_train.shape\n",
        " pd.Series(y_train).value_counts()"
      ],
      "metadata": {
        "id": "B7Wak1lvaZjJ",
        "colab": {
          "base_uri": "https://localhost:8080/"
        },
        "outputId": "db221f17-aafe-40ba-d688-2b409b3ccefd"
      },
      "execution_count": null,
      "outputs": [
        {
          "output_type": "execute_result",
          "data": {
            "text/plain": [
              "0    1302198\n",
              "3     257415\n",
              "2       7322\n",
              "5       2233\n",
              "6       1714\n",
              "1        998\n",
              "4         29\n",
              "dtype: int64"
            ]
          },
          "metadata": {},
          "execution_count": 18
        }
      ]
    },
    {
      "cell_type": "markdown",
      "metadata": {
        "id": "UCiZ89mLn6my"
      },
      "source": [
        "Oversampling by SMOTE"
      ]
    },
    {
      "cell_type": "code",
      "execution_count": 82,
      "metadata": {
        "id": "Zs7AWBe1n-tW",
        "colab": {
          "base_uri": "https://localhost:8080/"
        },
        "outputId": "c9ced0d0-69d2-4328-daa3-9f1fee93a3c6"
      },
      "outputs": [
        {
          "output_type": "execute_result",
          "data": {
            "text/plain": [
              "0    1302198\n",
              "3     257415\n",
              "2       7322\n",
              "5       2233\n",
              "1       2000\n",
              "4       2000\n",
              "6       1714\n",
              "dtype: int64"
            ]
          },
          "metadata": {},
          "execution_count": 82
        }
      ],
      "source": [
        "from imblearn.over_sampling import SMOTE\n",
        "smote=SMOTE(n_jobs=-1,sampling_strategy={1:2000, 4:2000}) # Create 2000 samples for the minority class \"4\"\n",
        "\n",
        "X_train, y_train = smote.fit_resample(X_train, y_train)\n",
        "pd.Series(y_train).value_counts()"
      ]
    },
    {
      "cell_type": "markdown",
      "metadata": {
        "id": "16Sv66h8Pf8O"
      },
      "source": [
        "Training two base learners: Random Forest and KNN"
      ]
    },
    {
      "cell_type": "code",
      "source": [
        "# Random Forest training and prediction\n",
        "rf = RandomForestClassifier(random_state = 0)\n",
        "rf.fit(X_train,y_train)\n",
        "rf_score=rf.score(X_test,y_test)\n",
        "y_predict_rf=rf.predict(X_test)\n",
        "pd.DataFrame(y_predict_rf).to_csv('/content/gdrive/MyDrive/ISO-IDS/y_predict_rf.csv')\n",
        "\n",
        "#  k-Nearest Neighbors (kNN) training and prediction\n",
        "from sklearn.neighbors import KNeighborsClassifier\n",
        "classifier = KNeighborsClassifier(n_neighbors=3)\n",
        "classifier.fit(X_train, y_train)\n",
        "y_predict_knn = classifier.predict(X_test)\n",
        "kn=classifier.score(X_test,y_test)\n",
        "pd.DataFrame(y_predict_knn).to_csv('/content/gdrive/MyDrive/ISO-IDS/y_predict_knn.csv')"
      ],
      "metadata": {
        "id": "Jpp2tGNtzBzf"
      },
      "execution_count": null,
      "outputs": []
    },
    {
      "cell_type": "code",
      "source": [
        "y_true = y_test\n",
        "y_true_dec = label_decoder(y_true, labelencoder)"
      ],
      "metadata": {
        "id": "AEgIm6bS0vEU"
      },
      "execution_count": null,
      "outputs": []
    },
    {
      "cell_type": "code",
      "execution_count": 71,
      "metadata": {
        "id": "L0nDjRbPPrB6",
        "colab": {
          "base_uri": "https://localhost:8080/",
          "height": 973
        },
        "outputId": "900efc2b-dc55-4e61-e586-f4f0ee850ba7"
      },
      "outputs": [
        {
          "output_type": "stream",
          "name": "stdout",
          "text": [
            "Accuracy of RF: 0.9989770419718152\n",
            "Precision of RF: 0.9989899385217231\n",
            "Recall of RF: 0.9989770419718152\n",
            "F1-score of RF: 0.9989822006521027\n",
            "              precision    recall  f1-score   support\n",
            "\n",
            "           0       1.00      1.00      1.00    325550\n",
            "           1       0.69      0.74      0.71       250\n",
            "           2       1.00      0.99      0.99      1830\n",
            "           3       1.00      1.00      1.00     64354\n",
            "           4       0.38      0.43      0.40         7\n",
            "           5       0.97      0.93      0.95       558\n",
            "           6       0.98      0.97      0.98       429\n",
            "\n",
            "    accuracy                           1.00    392978\n",
            "   macro avg       0.86      0.86      0.86    392978\n",
            "weighted avg       1.00      1.00      1.00    392978\n",
            "\n"
          ]
        },
        {
          "output_type": "display_data",
          "data": {
            "text/plain": [
              "<Figure size 700x700 with 2 Axes>"
            ],
            "image/png": "[encoded data removed]"
          },
          "metadata": {}
        }
      ],
      "source": [
        "print('Accuracy of RF: '+ str(rf_score))\n",
        "precision,recall,fscore,none= precision_recall_fscore_support(y_true, y_predict_rf, average='weighted')\n",
        "print('Precision of RF: '+(str(precision)))\n",
        "print('Recall of RF: '+(str(recall)))\n",
        "print('F1-score of RF: '+(str(fscore)))\n",
        "print(classification_report(y_true,y_predict_rf))\n",
        "\n",
        "y_pred_dec = labelencoder.inverse_transform(y_predict_rf)\n",
        "\n",
        "cm = confusion_matrix(y_true_dec, y_pred_dec)\n",
        "f,ax=plt.subplots(figsize=(7,7))\n",
        "sns.heatmap(cm,annot=True,linewidth=0.5,linecolor=\"green\",fmt=\".0f\",ax=ax, cmap=\"Blues\")\n",
        "\n",
        "plt.xlabel(\"y_pred\")\n",
        "plt.ylabel(\"y_true\")\n",
        "\n",
        "ax.tick_params(axis='both', which='major', labelsize=9)\n",
        "ax.xaxis.set_ticklabels(np.unique(y_true_dec));\n",
        "ax.yaxis.set_ticklabels(np.unique(y_pred_dec));\n",
        "\n",
        "plt.setp(ax.get_xticklabels(), rotation=45, ha=\"right\", rotation_mode=\"anchor\")\n",
        "plt.setp(ax.get_yticklabels(), rotation=45, ha=\"right\", rotation_mode=\"anchor\")\n",
        "plt.show()"
      ]
    },
    {
      "cell_type": "markdown",
      "metadata": {
        "id": "18kX80HcAyoU"
      },
      "source": [
        "**KNN**"
      ]
    },
    {
      "cell_type": "code",
      "execution_count": 68,
      "metadata": {
        "id": "szt09zECjYWu",
        "colab": {
          "base_uri": "https://localhost:8080/",
          "height": 973
        },
        "outputId": "f7122007-2071-4cab-c4e8-ca11777cd7eb"
      },
      "outputs": [
        {
          "output_type": "stream",
          "name": "stdout",
          "text": [
            "Accuracy of KNN: 0.9985851625281822\n",
            "Precision of KNN: 0.9986575768604493\n",
            "Recall of KNN: 0.9985851625281822\n",
            "F1-score of KNN: 0.9986143259097516\n",
            "              precision    recall  f1-score   support\n",
            "\n",
            "           0       1.00      1.00      1.00    325550\n",
            "           1       0.65      0.78      0.71       250\n",
            "           2       0.99      0.99      0.99      1830\n",
            "           3       1.00      1.00      1.00     64354\n",
            "           4       0.17      0.57      0.26         7\n",
            "           5       0.90      0.85      0.87       558\n",
            "           6       0.97      0.98      0.97       429\n",
            "\n",
            "    accuracy                           1.00    392978\n",
            "   macro avg       0.81      0.88      0.83    392978\n",
            "weighted avg       1.00      1.00      1.00    392978\n",
            "\n"
          ]
        },
        {
          "output_type": "display_data",
          "data": {
            "text/plain": [
              "<Figure size 700x700 with 2 Axes>"
            ],
            "image/png": "[encoded data removed]"
          },
          "metadata": {}
        }
      ],
      "source": [
        "print('Accuracy of KNN: '+ str(kn))\n",
        "precision,recall,fscore,none= precision_recall_fscore_support(y_true, y_predict_knn, average='weighted')\n",
        "print('Precision of KNN: '+(str(precision)))\n",
        "print('Recall of KNN: '+(str(recall)))\n",
        "print('F1-score of KNN: '+(str(fscore)))\n",
        "\n",
        "print(classification_report(y_true,y_predict_knn))\n",
        "\n",
        "y_pred_dec = label_decoder(y_predict_knn, labelencoder)\n",
        "cm=confusion_matrix(y_true_dec,y_pred_dec)\n",
        "f,ax=plt.subplots(figsize=(7,7))\n",
        "sns.heatmap(cm,annot=True,linewidth=0.5,linecolor=\"green\",fmt=\".0f\",ax=ax, cmap=\"Blues\")\n",
        "\n",
        "plt.xlabel(\"y_pred\")\n",
        "plt.ylabel(\"y_true\")\n",
        "\n",
        "ax.tick_params(axis='both', which='major', labelsize=9)\n",
        "ax.xaxis.set_ticklabels(np.unique(y_true_dec));\n",
        "ax.yaxis.set_ticklabels(np.unique(y_pred_dec));\n",
        "\n",
        "plt.setp(ax.get_xticklabels(), rotation=45, ha=\"right\", rotation_mode=\"anchor\")\n",
        "plt.setp(ax.get_yticklabels(), rotation=45, ha=\"right\", rotation_mode=\"anchor\")\n",
        "plt.show()"
      ]
    },
    {
      "cell_type": "code",
      "execution_count": null,
      "metadata": {
        "id": "lIYwjM1cjbwN"
      },
      "outputs": [],
      "source": [
        "classifier_train=classifier.predict(X_train)\n",
        "classifier_test=classifier.predict(X_test)"
      ]
    },
    {
      "cell_type": "markdown",
      "metadata": {
        "id": "Ad_EntGpDwjc"
      },
      "source": [
        "Aggregation of Classifiers based on K-Means Clustering"
      ]
    },
    {
      "cell_type": "markdown",
      "metadata": {
        "id": "BUCT-ELPADeW"
      },
      "source": [
        "# New Section"
      ]
    },
    {
      "cell_type": "markdown",
      "metadata": {
        "id": "oSRRkK0UWC8h"
      },
      "source": [
        "Aggregation of Classifiers based on ISO 27001"
      ]
    },
    {
      "cell_type": "code",
      "execution_count": 53,
      "metadata": {
        "id": "RYfb-A3tEcdE"
      },
      "outputs": [],
      "source": [
        "res = y_predict_rf == y_predict_knn # KNN nad RandomeForest point of disputes"
      ]
    },
    {
      "cell_type": "code",
      "execution_count": 54,
      "metadata": {
        "id": "phZnLk7-ErID",
        "colab": {
          "base_uri": "https://localhost:8080/"
        },
        "outputId": "c6d3af52-463a-4d72-f35b-53e72ce3c9b9"
      },
      "outputs": [
        {
          "output_type": "execute_result",
          "data": {
            "text/plain": [
              "array([0, 3, 5, 2, 1, 3, 5, 1, 3, 0, 0, 1, 0, 0, 3, 0, 5, 2, 3, 0, 0, 0,\n",
              "       0, 5, 3, 0, 0, 0, 0, 3, 2, 3, 1, 2, 3, 0, 5, 1, 3, 0, 4, 1, 3, 5,\n",
              "       3, 1, 5, 3, 0, 5, 0, 1, 5, 0, 0, 2, 0, 0, 0, 4, 0, 3, 1, 2, 1, 3,\n",
              "       5, 0, 5, 4, 0, 3, 0, 3, 3, 3, 1, 0, 3, 3, 5, 1, 0, 0, 4, 0, 1, 0,\n",
              "       0, 3, 6, 3, 3, 3, 0, 3, 0, 0, 0, 3, 3, 0, 0, 3, 0, 0, 5, 0, 5, 4,\n",
              "       3, 0, 1, 2, 0, 5, 6, 3, 0, 3, 0, 3, 3, 5, 5, 4, 0, 3, 5, 3, 3, 0,\n",
              "       3, 3, 3, 0, 1, 3, 6, 5, 6, 3, 2, 0, 0, 5, 5, 0, 0, 1, 3, 0, 6, 3,\n",
              "       0, 1, 3, 0, 0, 0, 3, 1, 3, 1, 3, 0, 5, 5, 4, 1, 0, 0, 5, 3, 3, 3,\n",
              "       3, 5, 1, 1, 0, 0, 3, 3, 5, 1, 3, 3, 5, 0, 1, 0, 3, 0, 0, 0, 0, 3,\n",
              "       0, 3, 4, 5, 0, 0, 5, 4, 0, 1, 5, 3, 0, 1, 0, 0, 5, 0, 1, 3, 4, 3,\n",
              "       0, 0, 0, 5, 3, 0, 0, 0, 3, 5, 3, 1, 5, 3, 3, 0, 3, 1, 6, 3, 1, 1,\n",
              "       0, 4, 0, 5, 1, 0, 4, 3, 3, 1, 0, 1, 0, 0, 4, 1, 0, 3, 0, 5, 1, 3,\n",
              "       0, 2, 0, 0, 1, 3, 4, 3, 1, 3, 0, 1, 1, 5, 3, 2, 1, 0, 1, 1, 3, 0,\n",
              "       3, 3, 4, 5, 4, 0, 4, 6, 0, 0, 1, 5, 3, 0, 6, 6, 0, 0, 0, 4, 5, 1,\n",
              "       0, 3, 0, 2, 6, 0, 1, 1, 0, 0, 1, 1, 5, 0, 1, 1, 0, 0, 3, 0, 0, 0,\n",
              "       5, 3, 1, 0, 0, 3, 0, 0, 3, 3, 3, 5, 0, 0, 0, 5])"
            ]
          },
          "metadata": {},
          "execution_count": 54
        }
      ],
      "source": [
        "y_predict_knn[~res] # KNN point of disoutes with RandomeForest"
      ]
    },
    {
      "cell_type": "code",
      "execution_count": 55,
      "metadata": {
        "id": "hU-_zqFRExyv",
        "colab": {
          "base_uri": "https://localhost:8080/"
        },
        "outputId": "bca3094e-d4ef-4e7f-a885-48ba0aebc41c"
      },
      "outputs": [
        {
          "output_type": "execute_result",
          "data": {
            "text/plain": [
              "array([5, 0, 0, 0, 0, 0, 0, 0, 0, 5, 5, 0, 5, 5, 0, 3, 0, 0, 0, 1, 1, 5,\n",
              "       5, 0, 0, 5, 3, 3, 3, 0, 0, 0, 0, 0, 0, 5, 0, 0, 0, 1, 0, 0, 0, 0,\n",
              "       0, 0, 0, 0, 5, 0, 3, 0, 0, 3, 1, 0, 3, 3, 3, 0, 1, 0, 0, 0, 5, 0,\n",
              "       0, 3, 0, 0, 3, 0, 3, 0, 0, 0, 0, 3, 0, 0, 0, 0, 3, 5, 0, 5, 0, 3,\n",
              "       3, 0, 5, 0, 0, 0, 3, 0, 5, 3, 1, 0, 0, 3, 5, 0, 3, 1, 0, 5, 0, 0,\n",
              "       0, 3, 0, 5, 1, 0, 0, 0, 5, 0, 5, 0, 0, 0, 0, 0, 3, 0, 0, 0, 0, 2,\n",
              "       0, 0, 0, 3, 5, 0, 3, 0, 0, 0, 0, 3, 5, 3, 0, 3, 1, 0, 0, 3, 0, 0,\n",
              "       3, 5, 0, 4, 5, 1, 0, 0, 0, 0, 0, 2, 0, 0, 0, 0, 3, 1, 0, 0, 0, 0,\n",
              "       0, 0, 0, 5, 3, 1, 0, 0, 0, 0, 0, 0, 0, 3, 0, 5, 0, 5, 2, 3, 5, 0,\n",
              "       3, 0, 0, 0, 3, 3, 0, 0, 5, 0, 0, 0, 3, 0, 5, 5, 0, 5, 0, 0, 0, 0,\n",
              "       2, 4, 3, 3, 0, 5, 1, 5, 0, 0, 0, 0, 0, 0, 0, 5, 0, 0, 5, 0, 0, 0,\n",
              "       5, 0, 3, 0, 0, 5, 0, 0, 0, 0, 1, 0, 3, 1, 0, 0, 3, 0, 5, 0, 0, 0,\n",
              "       2, 0, 5, 3, 0, 0, 0, 0, 0, 0, 1, 0, 0, 0, 0, 0, 0, 5, 0, 0, 0, 3,\n",
              "       0, 0, 0, 0, 0, 2, 0, 3, 3, 3, 0, 0, 0, 5, 0, 5, 2, 3, 5, 0, 0, 0,\n",
              "       1, 0, 5, 0, 0, 5, 0, 0, 3, 2, 0, 0, 0, 3, 0, 0, 5, 5, 0, 2, 3, 5,\n",
              "       0, 0, 5, 1, 5, 0, 1, 5, 0, 0, 0, 0, 3, 5, 3, 0])"
            ]
          },
          "metadata": {},
          "execution_count": 55
        }
      ],
      "source": [
        "y_predict_rf[~res] # RandomeForest point of disputes with KNN"
      ]
    },
    {
      "cell_type": "code",
      "source": [
        "y[~res] # Actual values in point of disputs"
      ],
      "metadata": {
        "colab": {
          "base_uri": "https://localhost:8080/"
        },
        "id": "6P7O8DxkDFgf",
        "outputId": "be87edab-2ed8-4b91-ca84-ba283fc79a91"
      },
      "execution_count": 77,
      "outputs": [
        {
          "output_type": "execute_result",
          "data": {
            "text/plain": [
              "array([5, 3, 5, 2, 1, 3, 5, 1, 3, 5, 5, 1, 5, 5, 3, 3, 5, 2, 3, 1, 1, 5,\n",
              "       5, 5, 3, 5, 3, 3, 3, 3, 2, 3, 1, 2, 3, 5, 5, 1, 3, 1, 4, 1, 3, 5,\n",
              "       3, 1, 5, 3, 5, 5, 3, 1, 5, 3, 1, 2, 3, 3, 3, 4, 1, 3, 1, 2, 1, 3,\n",
              "       5, 3, 5, 4, 3, 3, 3, 3, 3, 3, 1, 3, 3, 3, 5, 1, 3, 5, 4, 5, 1, 3,\n",
              "       3, 3, 6, 3, 3, 3, 3, 3, 5, 3, 1, 3, 3, 3, 5, 3, 3, 1, 5, 5, 5, 4,\n",
              "       3, 3, 1, 2, 1, 5, 6, 3, 5, 3, 5, 3, 3, 5, 5, 4, 3, 3, 5, 3, 3, 2,\n",
              "       3, 3, 3, 3, 1, 3, 6, 5, 6, 3, 2, 3, 5, 5, 5, 3, 1, 1, 3, 3, 6, 3,\n",
              "       3, 1, 3, 4, 5, 1, 3, 1, 3, 1, 3, 2, 5, 5, 4, 1, 3, 1, 5, 3, 3, 3,\n",
              "       3, 5, 1, 1, 3, 1, 3, 3, 5, 1, 3, 3, 5, 3, 1, 5, 3, 5, 2, 3, 5, 3,\n",
              "       3, 3, 4, 5, 3, 3, 5, 4, 5, 1, 5, 3, 3, 1, 5, 5, 5, 5, 1, 3, 4, 3,\n",
              "       2, 4, 3, 5, 3, 5, 1, 5, 3, 5, 3, 1, 5, 3, 3, 5, 3, 1, 6, 3, 1, 1,\n",
              "       5, 4, 3, 5, 1, 5, 4, 3, 3, 1, 1, 1, 3, 1, 4, 1, 3, 3, 5, 5, 1, 3,\n",
              "       2, 2, 5, 3, 1, 3, 4, 3, 1, 3, 1, 1, 1, 5, 3, 2, 1, 5, 1, 1, 3, 3,\n",
              "       3, 3, 4, 5, 4, 2, 4, 6, 3, 3, 1, 5, 3, 5, 6, 6, 2, 3, 5, 4, 5, 1,\n",
              "       1, 3, 5, 2, 6, 5, 1, 1, 3, 2, 1, 1, 5, 3, 1, 1, 5, 5, 3, 2, 3, 5,\n",
              "       5, 3, 1, 1, 5, 3, 1, 5, 3, 3, 3, 5, 3, 5, 3, 5])"
            ]
          },
          "metadata": {},
          "execution_count": 77
        }
      ]
    },
    {
      "cell_type": "code",
      "execution_count": 56,
      "metadata": {
        "id": "DHfac09rFqq4"
      },
      "outputs": [],
      "source": [
        "y = []\n",
        "for i in range(len(y_predict_rf)):\n",
        "  t = (y_predict_knn[i], y_predict_rf[i])\n",
        "  i = np.nonzero(t)\n",
        "  y.append(t[i[0][0]] if len(i[0]) > 0 else 0)\n",
        "y = np.array(y)"
      ]
    },
    {
      "cell_type": "code",
      "execution_count": 78,
      "metadata": {
        "id": "x8OV6cpdQsx3",
        "colab": {
          "base_uri": "https://localhost:8080/"
        },
        "outputId": "608f6571-8bbc-4a76-b3af-d3ef585773e8"
      },
      "outputs": [
        {
          "output_type": "execute_result",
          "data": {
            "text/plain": [
              "223"
            ]
          },
          "metadata": {},
          "execution_count": 78
        }
      ],
      "source": [
        "y_predict_rf[y_predict_rf != y].shape[0] # Number of wrong answers for RandomeForest"
      ]
    },
    {
      "cell_type": "code",
      "execution_count": 81,
      "metadata": {
        "id": "HqPvnsLTUdwC",
        "colab": {
          "base_uri": "https://localhost:8080/"
        },
        "outputId": "4bc780d3-2958-4beb-8986-604b33caaf9a"
      },
      "outputs": [
        {
          "output_type": "execute_result",
          "data": {
            "text/plain": [
              "123"
            ]
          },
          "metadata": {},
          "execution_count": 81
        }
      ],
      "source": [
        "y_predict_knn[y_predict_knn != y].shape[0] # Number of WrongAnswers for KNN"
      ]
    },
    {
      "cell_type": "code",
      "execution_count": null,
      "metadata": {
        "id": "_G5wt-KLhq6q"
      },
      "outputs": [],
      "source": [
        "# I added these two lines\n",
        "ac=classifier.score(X_test,y)\n",
        "precision,recall,fscore,none= precision_recall_fscore_support(y_true, y, average='weighted')"
      ]
    },
    {
      "cell_type": "code",
      "source": [
        "from functools import cmp_to_key\n",
        "# I corrected the print instractions\n",
        "print('Accuracy of proposed method: '+ (str(ac)))\n",
        "print('Precision of proposed method: '+ (str(precision)))\n",
        "print('Recall of proposed method: '+ (str(recall)))\n",
        "print('F1-score of proposed method: '+ (str(fscore)))\n",
        "\n",
        "# Same as before without any modifications\n",
        "y_dec = label_decoder(y, labelencoder)\n",
        "cm = confusion_matrix(y_true_dec, y_dec)\n",
        "f,ax=plt.subplots(figsize=(7,7))\n",
        "sns.heatmap(cm,annot=True,linewidth=0.5,linecolor=\"green\",fmt=\".0f\",ax=ax, cmap='Blues')\n",
        "plt.xlabel(\"y_pred\")\n",
        "plt.ylabel(\"y_true\")\n",
        "\n",
        "\n",
        "ax.tick_params(axis='both', which='major', labelsize=9)\n",
        "ax.xaxis.set_ticklabels(np.unique(y_true_dec));\n",
        "ax.yaxis.set_ticklabels(np.unique(y_dec));\n",
        "\n",
        "plt.setp(ax.get_xticklabels(), rotation=45, ha=\"right\", rotation_mode=\"anchor\")\n",
        "plt.setp(ax.get_yticklabels(), rotation=45, ha=\"right\", rotation_mode=\"anchor\")\n",
        "plt.show()"
      ],
      "metadata": {
        "colab": {
          "base_uri": "https://localhost:8080/",
          "height": 729
        },
        "id": "Z1KUCLIt-ayc",
        "outputId": "9e5fe096-da86-4377-bca9-1e3636925c0f"
      },
      "execution_count": 70,
      "outputs": [
        {
          "output_type": "stream",
          "name": "stdout",
          "text": [
            "Accuracy of proposed method: 0.999687005379436\n",
            "Precision of proposed method: 0.9986575768604493\n",
            "Recall of proposed method: 0.9985851625281822\n",
            "F1-score of proposed method: 0.9986143259097516\n"
          ]
        },
        {
          "output_type": "display_data",
          "data": {
            "text/plain": [
              "<Figure size 700x700 with 2 Axes>"
            ],
            "image/png": "[encoded data removed]"
          },
          "metadata": {}
        }
      ]
    },
    {
      "cell_type": "code",
      "execution_count": null,
      "metadata": {
        "id": "6XoGj5R8jWz0"
      },
      "outputs": [],
      "source": [
        "#TYPE OF ATTACK\n",
        "#BENIGN                        2273097\n",
        "#DoS Hulk                       231073\n",
        "#PortScan                       158930\n",
        "#DDoS                           128027\n",
        "#DoS GoldenEye                   10293\n",
        "#FTP-Patator                      7938\n",
        "#SSH-Patator                      5897\n",
        "#DoS slowloris                    5796\n",
        "#DoS Slowhttptest                 5499\n",
        "#Bot                              1966\n",
        "#Web Attack � Brute Force         1507\n",
        "#Web Attack � XSS                  652\n",
        "#Infiltration                       36\n",
        "#Web Attack � Sql Injection         21\n",
        "#Heartbleed                         11"
      ]
    }
  ],
  "metadata": {
    "colab": {
      "provenance": [],
      "machine_shape": "hm"
    },
    "kernelspec": {
      "display_name": "Python 3",
      "name": "python3"
    },
    "language_info": {
      "name": "python"
    }
  },
  "nbformat": 4,
  "nbformat_minor": 0
}