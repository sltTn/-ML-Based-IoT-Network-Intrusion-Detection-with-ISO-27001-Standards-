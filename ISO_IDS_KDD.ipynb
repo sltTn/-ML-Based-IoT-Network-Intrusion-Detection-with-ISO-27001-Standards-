{
  "cells": [
    {
      "cell_type": "code",
      "execution_count": null,
      "metadata": {
        "id": "T9fRBVz8j7fG"
      },
      "outputs": [],
      "source": [
        "import warnings\n",
        "warnings.filterwarnings(\"ignore\")\n",
        "import numpy as np\n",
        "import pandas as pd\n",
        "import seaborn as sns\n",
        "import matplotlib.pyplot as plt\n",
        "import seaborn as sns\n",
        "from scipy import sparse\n",
        "import matplotlib.pyplot as plt\n",
        "from sklearn.preprocessing import LabelEncoder, StandardScaler, OneHotEncoder, OrdinalEncoder, MinMaxScaler\n",
        "from sklearn.model_selection import train_test_split\n",
        "from sklearn.compose import ColumnTransformer\n",
        "from sklearn.pipeline import Pipeline\n",
        "from sklearn.metrics import classification_report,confusion_matrix,accuracy_score,precision_recall_fscore_support, f1_score, roc_curve, auc\n",
        "from sklearn.ensemble import RandomForestClassifier,ExtraTreesClassifier\n",
        "from sklearn.tree import DecisionTreeClassifier\n",
        "import xgboost as xgb\n",
        "from xgboost import plot_importance\n",
        "from pandas import Series, DataFrame\n",
        "from sklearn.discriminant_analysis import LinearDiscriminantAnalysis"
      ]
    },
    {
      "cell_type": "code",
      "execution_count": null,
      "metadata": {
        "id": "CfMo9-cZ4bsk",
        "colab": {
          "base_uri": "https://localhost:8080/"
        },
        "outputId": "58868185-78a9-483e-e02c-f2eb0b0f658a"
      },
      "outputs": [
        {
          "output_type": "stream",
          "name": "stdout",
          "text": [
            "Drive already mounted at /content/gdrive; to attempt to forcibly remount, call drive.mount(\"/content/gdrive\", force_remount=True).\n"
          ]
        }
      ],
      "source": [
        "#Read dataset and mount dataset in google drive\n",
        "from google.colab import drive\n",
        "drive.mount('/content/gdrive')"
      ]
    },
    {
      "cell_type": "code",
      "source": [
        "  MAIN_PATH   = '/content/gdrive/MyDrive/ISO-IDS/KDD'"
      ],
      "metadata": {
        "id": "_nhQ8lLhwKKG"
      },
      "execution_count": null,
      "outputs": []
    },
    {
      "cell_type": "code",
      "source": [
        "def visualize(model, preds, y_true):\n",
        "  model_score=model.score(X_test,y_test)\n",
        "  print(f'Accuracy of {model}: '+ str(model_score))\n",
        "  precision,recall,fscore,none= precision_recall_fscore_support(y_true, preds, average='weighted')\n",
        "  print(f'Precision of {model}: '+(str(precision)))\n",
        "  print(f'Recall of {model}: '+(str(recall)))\n",
        "  print(f'F1-score of {model}: '+(str(fscore)))\n",
        "  print(classification_report(y_true,y_predict_rf))\n",
        "\n",
        "  y_pred_dec = preds\n",
        "\n",
        "  cm = confusion_matrix(y_true, y_pred_dec)\n",
        "  f,ax=plt.subplots(figsize=(7,7))\n",
        "  sns.heatmap(cm,annot=True,linewidth=0.5,linecolor=\"green\",fmt=\".0f\",ax=ax, cmap=\"Blues\")\n",
        "\n",
        "  plt.xlabel(\"y_pred\")\n",
        "  plt.ylabel(\"y_true\")\n",
        "\n",
        "  ax.tick_params(axis='both', which='major', labelsize=9)\n",
        "\n",
        "  plt.setp(ax.get_xticklabels(), rotation=45, ha=\"right\", rotation_mode=\"anchor\")\n",
        "  plt.setp(ax.get_yticklabels(), rotation=45, ha=\"right\", rotation_mode=\"anchor\")\n",
        "  plt.show()"
      ],
      "metadata": {
        "id": "84YsFJS3Xejf"
      },
      "execution_count": null,
      "outputs": []
    },
    {
      "cell_type": "code",
      "execution_count": null,
      "metadata": {
        "id": "b1v4Ejj3khJk"
      },
      "outputs": [],
      "source": [
        "df_trian = pd.read_csv(f'{MAIN_PATH}/csv_result-KDDTrain+.csv')\n",
        "df_test  = pd.read_csv(f'{MAIN_PATH}/csv_result-KDDTest+.csv')"
      ]
    },
    {
      "cell_type": "code",
      "source": [
        "df_concat = pd.concat([df_trian, df_test])\n",
        "df_concat = df_concat.rename(columns={col:col.strip(\"'\") for col in df_concat.columns})\n",
        "df_concat = df_concat.rename(columns={'class':'Label'})"
      ],
      "metadata": {
        "id": "IA1ituh0bgld"
      },
      "execution_count": null,
      "outputs": []
    },
    {
      "cell_type": "code",
      "source": [
        "categorical_cols  = df_concat.select_dtypes(include=['object']).columns\n",
        "numerical_cols    = df_concat.select_dtypes(include=['number']).columns\n",
        "column_transformer = ColumnTransformer(transformers=[\n",
        "  ('num', StandardScaler(), numerical_cols),\n",
        "  ('cat', OrdinalEncoder(), categorical_cols)\n",
        "  ])\n",
        "pipeline = Pipeline(steps=[('preprocessor', column_transformer)])\n",
        "processed_data = pipeline.fit_transform(df_concat)\n",
        "\n",
        "ohe_feature_names = pipeline.named_steps['preprocessor'].transformers_[1][1].get_feature_names_out(categorical_cols)\n",
        "all_feature_names = numerical_cols.to_list() + ohe_feature_names.tolist()\n",
        "df_processed = pd.DataFrame(processed_data, columns=all_feature_names)\n",
        "\n",
        "df_concat  = df_processed.dropna(0)"
      ],
      "metadata": {
        "id": "CP1jk2jq3SXW"
      },
      "execution_count": null,
      "outputs": []
    },
    {
      "cell_type": "code",
      "source": [
        "df_concat"
      ],
      "metadata": {
        "colab": {
          "base_uri": "https://localhost:8080/",
          "height": 444
        },
        "id": "53Iz0sjo_3sv",
        "outputId": "34c88bc5-c648-48c5-a3a1-bf2697109e7d"
      },
      "execution_count": null,
      "outputs": [
        {
          "output_type": "execute_result",
          "data": {
            "text/plain": [
              "              id  duration  src_bytes  dst_bytes     land  wrong_fragment  \\\n",
              "0      -1.436858 -0.112481  -0.007346  -0.004614 -0.01468       -0.085488   \n",
              "1      -1.436832 -0.112481  -0.007409  -0.004614 -0.01468       -0.085488   \n",
              "2      -1.436806 -0.112481  -0.007436  -0.004614 -0.01468       -0.085488   \n",
              "3      -1.436780 -0.112481  -0.007394  -0.002413 -0.01468       -0.085488   \n",
              "4      -1.436754 -0.112481  -0.007400  -0.004501 -0.01468       -0.085488   \n",
              "...          ...       ...        ...        ...      ...             ...   \n",
              "148512 -0.849487 -0.112481  -0.007290  -0.004524 -0.01468       -0.085488   \n",
              "148513 -0.849461 -0.112481  -0.007378  -0.004361 -0.01468       -0.085488   \n",
              "148514 -0.849435 -0.112481   0.002646  -0.002369 -0.01468       -0.085488   \n",
              "148515 -0.849409 -0.112481  -0.007429  -0.004603 -0.01468       -0.085488   \n",
              "148516 -0.849383 -0.112481  -0.007436  -0.004614 -0.01468       -0.085488   \n",
              "\n",
              "          urgent       hot  num_failed_logins  logged_in  ...  \\\n",
              "0      -0.010403 -0.094071          -0.059832  -0.821249  ...   \n",
              "1      -0.010403 -0.094071          -0.059832  -0.821249  ...   \n",
              "2      -0.010403 -0.094071          -0.059832  -0.821249  ...   \n",
              "3      -0.010403 -0.094071          -0.059832   1.217658  ...   \n",
              "4      -0.010403 -0.094071          -0.059832   1.217658  ...   \n",
              "...          ...       ...                ...        ...  ...   \n",
              "148512 -0.010403 -0.094071          -0.059832   1.217658  ...   \n",
              "148513 -0.010403 -0.094071          -0.059832   1.217658  ...   \n",
              "148514 -0.010403  0.899396          -0.059832   1.217658  ...   \n",
              "148515 -0.010403 -0.094071          -0.059832  -0.821249  ...   \n",
              "148516 -0.010403 -0.094071          -0.059832  -0.821249  ...   \n",
              "\n",
              "        dst_host_same_src_port_rate  dst_host_srv_diff_host_rate  \\\n",
              "0                          0.077981                    -0.280650   \n",
              "1                          2.378421                    -0.280650   \n",
              "2                         -0.472829                    -0.280650   \n",
              "3                         -0.375627                     0.086408   \n",
              "4                         -0.472829                    -0.280650   \n",
              "...                             ...                          ...   \n",
              "148512                    -0.440428                    -0.188885   \n",
              "148513                    -0.440428                    -0.188885   \n",
              "148514                    -0.472829                    -0.280650   \n",
              "148515                    -0.472829                    -0.280650   \n",
              "148516                    -0.472829                    -0.280650   \n",
              "\n",
              "        dst_host_serror_rate  dst_host_srv_serror_rate  dst_host_rerror_rate  \\\n",
              "0                  -0.597720                 -0.584813             -0.267151   \n",
              "1                  -0.597720                 -0.584813             -0.422074   \n",
              "2                   1.736012                  1.742295             -0.422074   \n",
              "3                  -0.527708                 -0.561542             -0.422074   \n",
              "4                  -0.597720                 -0.584813             -0.422074   \n",
              "...                      ...                       ...                   ...   \n",
              "148512             -0.574382                 -0.584813             -0.422074   \n",
              "148513             -0.574382                 -0.584813             -0.422074   \n",
              "148514             -0.597720                 -0.584813             -0.205182   \n",
              "148515             -0.597720                 -0.584813             -0.422074   \n",
              "148516             -0.597720                 -0.584813              0.941252   \n",
              "\n",
              "        dst_host_srv_rerror_rate  protocol_type  service  flag  Label  \n",
              "0                      -0.406815            1.0     20.0   9.0    1.0  \n",
              "1                      -0.406815            2.0     44.0   9.0    1.0  \n",
              "2                      -0.406815            1.0     49.0   5.0    0.0  \n",
              "3                      -0.376989            1.0     24.0   9.0    1.0  \n",
              "4                      -0.406815            1.0     24.0   9.0    1.0  \n",
              "...                          ...            ...      ...   ...    ...  \n",
              "148512                 -0.406815            1.0     54.0   9.0    1.0  \n",
              "148513                 -0.406815            1.0     24.0   9.0    1.0  \n",
              "148514                 -0.198035            1.0     24.0   9.0    0.0  \n",
              "148515                 -0.406815            2.0     12.0   9.0    1.0  \n",
              "148516                  2.575756            1.0     57.0   1.0    0.0  \n",
              "\n",
              "[148517 rows x 43 columns]"
            ],
            "text/html": [
              "\n",
              "  <div id=\"df-5f039624-3137-487b-a31b-df119958e50b\" class=\"colab-df-container\">\n",
              "    <div>\n",
              "<style scoped>\n",
              "    .dataframe tbody tr th:only-of-type {\n",
              "        vertical-align: middle;\n",
              "    }\n",
              "\n",
              "    .dataframe tbody tr th {\n",
              "        vertical-align: top;\n",
              "    }\n",
              "\n",
              "    .dataframe thead th {\n",
              "        text-align: right;\n",
              "    }\n",
              "</style>\n",
              "<table border=\"1\" class=\"dataframe\">\n",
              "  <thead>\n",
              "    <tr style=\"text-align: right;\">\n",
              "      <th></th>\n",
              "      <th>id</th>\n",
              "      <th>duration</th>\n",
              "      <th>src_bytes</th>\n",
              "      <th>dst_bytes</th>\n",
              "      <th>land</th>\n",
              "      <th>wrong_fragment</th>\n",
              "      <th>urgent</th>\n",
              "      <th>hot</th>\n",
              "      <th>num_failed_logins</th>\n",
              "      <th>logged_in</th>\n",
              "      <th>...</th>\n",
              "      <th>dst_host_same_src_port_rate</th>\n",
              "      <th>dst_host_srv_diff_host_rate</th>\n",
              "      <th>dst_host_serror_rate</th>\n",
              "      <th>dst_host_srv_serror_rate</th>\n",
              "      <th>dst_host_rerror_rate</th>\n",
              "      <th>dst_host_srv_rerror_rate</th>\n",
              "      <th>protocol_type</th>\n",
              "      <th>service</th>\n",
              "      <th>flag</th>\n",
              "      <th>Label</th>\n",
              "    </tr>\n",
              "  </thead>\n",
              "  <tbody>\n",
              "    <tr>\n",
              "      <th>0</th>\n",
              "      <td>-1.436858</td>\n",
              "      <td>-0.112481</td>\n",
              "      <td>-0.007346</td>\n",
              "      <td>-0.004614</td>\n",
              "      <td>-0.01468</td>\n",
              "      <td>-0.085488</td>\n",
              "      <td>-0.010403</td>\n",
              "      <td>-0.094071</td>\n",
              "      <td>-0.059832</td>\n",
              "      <td>-0.821249</td>\n",
              "      <td>...</td>\n",
              "      <td>0.077981</td>\n",
              "      <td>-0.280650</td>\n",
              "      <td>-0.597720</td>\n",
              "      <td>-0.584813</td>\n",
              "      <td>-0.267151</td>\n",
              "      <td>-0.406815</td>\n",
              "      <td>1.0</td>\n",
              "      <td>20.0</td>\n",
              "      <td>9.0</td>\n",
              "      <td>1.0</td>\n",
              "    </tr>\n",
              "    <tr>\n",
              "      <th>1</th>\n",
              "      <td>-1.436832</td>\n",
              "      <td>-0.112481</td>\n",
              "      <td>-0.007409</td>\n",
              "      <td>-0.004614</td>\n",
              "      <td>-0.01468</td>\n",
              "      <td>-0.085488</td>\n",
              "      <td>-0.010403</td>\n",
              "      <td>-0.094071</td>\n",
              "      <td>-0.059832</td>\n",
              "      <td>-0.821249</td>\n",
              "      <td>...</td>\n",
              "      <td>2.378421</td>\n",
              "      <td>-0.280650</td>\n",
              "      <td>-0.597720</td>\n",
              "      <td>-0.584813</td>\n",
              "      <td>-0.422074</td>\n",
              "      <td>-0.406815</td>\n",
              "      <td>2.0</td>\n",
              "      <td>44.0</td>\n",
              "      <td>9.0</td>\n",
              "      <td>1.0</td>\n",
              "    </tr>\n",
              "    <tr>\n",
              "      <th>2</th>\n",
              "      <td>-1.436806</td>\n",
              "      <td>-0.112481</td>\n",
              "      <td>-0.007436</td>\n",
              "      <td>-0.004614</td>\n",
              "      <td>-0.01468</td>\n",
              "      <td>-0.085488</td>\n",
              "      <td>-0.010403</td>\n",
              "      <td>-0.094071</td>\n",
              "      <td>-0.059832</td>\n",
              "      <td>-0.821249</td>\n",
              "      <td>...</td>\n",
              "      <td>-0.472829</td>\n",
              "      <td>-0.280650</td>\n",
              "      <td>1.736012</td>\n",
              "      <td>1.742295</td>\n",
              "      <td>-0.422074</td>\n",
              "      <td>-0.406815</td>\n",
              "      <td>1.0</td>\n",
              "      <td>49.0</td>\n",
              "      <td>5.0</td>\n",
              "      <td>0.0</td>\n",
              "    </tr>\n",
              "    <tr>\n",
              "      <th>3</th>\n",
              "      <td>-1.436780</td>\n",
              "      <td>-0.112481</td>\n",
              "      <td>-0.007394</td>\n",
              "      <td>-0.002413</td>\n",
              "      <td>-0.01468</td>\n",
              "      <td>-0.085488</td>\n",
              "      <td>-0.010403</td>\n",
              "      <td>-0.094071</td>\n",
              "      <td>-0.059832</td>\n",
              "      <td>1.217658</td>\n",
              "      <td>...</td>\n",
              "      <td>-0.375627</td>\n",
              "      <td>0.086408</td>\n",
              "      <td>-0.527708</td>\n",
              "      <td>-0.561542</td>\n",
              "      <td>-0.422074</td>\n",
              "      <td>-0.376989</td>\n",
              "      <td>1.0</td>\n",
              "      <td>24.0</td>\n",
              "      <td>9.0</td>\n",
              "      <td>1.0</td>\n",
              "    </tr>\n",
              "    <tr>\n",
              "      <th>4</th>\n",
              "      <td>-1.436754</td>\n",
              "      <td>-0.112481</td>\n",
              "      <td>-0.007400</td>\n",
              "      <td>-0.004501</td>\n",
              "      <td>-0.01468</td>\n",
              "      <td>-0.085488</td>\n",
              "      <td>-0.010403</td>\n",
              "      <td>-0.094071</td>\n",
              "      <td>-0.059832</td>\n",
              "      <td>1.217658</td>\n",
              "      <td>...</td>\n",
              "      <td>-0.472829</td>\n",
              "      <td>-0.280650</td>\n",
              "      <td>-0.597720</td>\n",
              "      <td>-0.584813</td>\n",
              "      <td>-0.422074</td>\n",
              "      <td>-0.406815</td>\n",
              "      <td>1.0</td>\n",
              "      <td>24.0</td>\n",
              "      <td>9.0</td>\n",
              "      <td>1.0</td>\n",
              "    </tr>\n",
              "    <tr>\n",
              "      <th>...</th>\n",
              "      <td>...</td>\n",
              "      <td>...</td>\n",
              "      <td>...</td>\n",
              "      <td>...</td>\n",
              "      <td>...</td>\n",
              "      <td>...</td>\n",
              "      <td>...</td>\n",
              "      <td>...</td>\n",
              "      <td>...</td>\n",
              "      <td>...</td>\n",
              "      <td>...</td>\n",
              "      <td>...</td>\n",
              "      <td>...</td>\n",
              "      <td>...</td>\n",
              "      <td>...</td>\n",
              "      <td>...</td>\n",
              "      <td>...</td>\n",
              "      <td>...</td>\n",
              "      <td>...</td>\n",
              "      <td>...</td>\n",
              "      <td>...</td>\n",
              "    </tr>\n",
              "    <tr>\n",
              "      <th>148512</th>\n",
              "      <td>-0.849487</td>\n",
              "      <td>-0.112481</td>\n",
              "      <td>-0.007290</td>\n",
              "      <td>-0.004524</td>\n",
              "      <td>-0.01468</td>\n",
              "      <td>-0.085488</td>\n",
              "      <td>-0.010403</td>\n",
              "      <td>-0.094071</td>\n",
              "      <td>-0.059832</td>\n",
              "      <td>1.217658</td>\n",
              "      <td>...</td>\n",
              "      <td>-0.440428</td>\n",
              "      <td>-0.188885</td>\n",
              "      <td>-0.574382</td>\n",
              "      <td>-0.584813</td>\n",
              "      <td>-0.422074</td>\n",
              "      <td>-0.406815</td>\n",
              "      <td>1.0</td>\n",
              "      <td>54.0</td>\n",
              "      <td>9.0</td>\n",
              "      <td>1.0</td>\n",
              "    </tr>\n",
              "    <tr>\n",
              "      <th>148513</th>\n",
              "      <td>-0.849461</td>\n",
              "      <td>-0.112481</td>\n",
              "      <td>-0.007378</td>\n",
              "      <td>-0.004361</td>\n",
              "      <td>-0.01468</td>\n",
              "      <td>-0.085488</td>\n",
              "      <td>-0.010403</td>\n",
              "      <td>-0.094071</td>\n",
              "      <td>-0.059832</td>\n",
              "      <td>1.217658</td>\n",
              "      <td>...</td>\n",
              "      <td>-0.440428</td>\n",
              "      <td>-0.188885</td>\n",
              "      <td>-0.574382</td>\n",
              "      <td>-0.584813</td>\n",
              "      <td>-0.422074</td>\n",
              "      <td>-0.406815</td>\n",
              "      <td>1.0</td>\n",
              "      <td>24.0</td>\n",
              "      <td>9.0</td>\n",
              "      <td>1.0</td>\n",
              "    </tr>\n",
              "    <tr>\n",
              "      <th>148514</th>\n",
              "      <td>-0.849435</td>\n",
              "      <td>-0.112481</td>\n",
              "      <td>0.002646</td>\n",
              "      <td>-0.002369</td>\n",
              "      <td>-0.01468</td>\n",
              "      <td>-0.085488</td>\n",
              "      <td>-0.010403</td>\n",
              "      <td>0.899396</td>\n",
              "      <td>-0.059832</td>\n",
              "      <td>1.217658</td>\n",
              "      <td>...</td>\n",
              "      <td>-0.472829</td>\n",
              "      <td>-0.280650</td>\n",
              "      <td>-0.597720</td>\n",
              "      <td>-0.584813</td>\n",
              "      <td>-0.205182</td>\n",
              "      <td>-0.198035</td>\n",
              "      <td>1.0</td>\n",
              "      <td>24.0</td>\n",
              "      <td>9.0</td>\n",
              "      <td>0.0</td>\n",
              "    </tr>\n",
              "    <tr>\n",
              "      <th>148515</th>\n",
              "      <td>-0.849409</td>\n",
              "      <td>-0.112481</td>\n",
              "      <td>-0.007429</td>\n",
              "      <td>-0.004603</td>\n",
              "      <td>-0.01468</td>\n",
              "      <td>-0.085488</td>\n",
              "      <td>-0.010403</td>\n",
              "      <td>-0.094071</td>\n",
              "      <td>-0.059832</td>\n",
              "      <td>-0.821249</td>\n",
              "      <td>...</td>\n",
              "      <td>-0.472829</td>\n",
              "      <td>-0.280650</td>\n",
              "      <td>-0.597720</td>\n",
              "      <td>-0.584813</td>\n",
              "      <td>-0.422074</td>\n",
              "      <td>-0.406815</td>\n",
              "      <td>2.0</td>\n",
              "      <td>12.0</td>\n",
              "      <td>9.0</td>\n",
              "      <td>1.0</td>\n",
              "    </tr>\n",
              "    <tr>\n",
              "      <th>148516</th>\n",
              "      <td>-0.849383</td>\n",
              "      <td>-0.112481</td>\n",
              "      <td>-0.007436</td>\n",
              "      <td>-0.004614</td>\n",
              "      <td>-0.01468</td>\n",
              "      <td>-0.085488</td>\n",
              "      <td>-0.010403</td>\n",
              "      <td>-0.094071</td>\n",
              "      <td>-0.059832</td>\n",
              "      <td>-0.821249</td>\n",
              "      <td>...</td>\n",
              "      <td>-0.472829</td>\n",
              "      <td>-0.280650</td>\n",
              "      <td>-0.597720</td>\n",
              "      <td>-0.584813</td>\n",
              "      <td>0.941252</td>\n",
              "      <td>2.575756</td>\n",
              "      <td>1.0</td>\n",
              "      <td>57.0</td>\n",
              "      <td>1.0</td>\n",
              "      <td>0.0</td>\n",
              "    </tr>\n",
              "  </tbody>\n",
              "</table>\n",
              "<p>148517 rows × 43 columns</p>\n",
              "</div>\n",
              "    <div class=\"colab-df-buttons\">\n",
              "\n",
              "  <div class=\"colab-df-container\">\n",
              "    <button class=\"colab-df-convert\" onclick=\"convertToInteractive('df-5f039624-3137-487b-a31b-df119958e50b')\"\n",
              "            title=\"Convert this dataframe to an interactive table.\"\n",
              "            style=\"display:none;\">\n",
              "\n",
              "  <svg xmlns=\"http://www.w3.org/2000/svg\" height=\"24px\" viewBox=\"0 -960 960 960\">\n",
              "    <path d=\"M120-120v-720h720v720H120Zm60-500h600v-160H180v160Zm220 220h160v-160H400v160Zm0 220h160v-160H400v160ZM180-400h160v-160H180v160Zm440 0h160v-160H620v160ZM180-180h160v-160H180v160Zm440 0h160v-160H620v160Z\"/>\n",
              "  </svg>\n",
              "    </button>\n",
              "\n",
              "  <style>\n",
              "    .colab-df-container {\n",
              "      display:flex;\n",
              "      gap: 12px;\n",
              "    }\n",
              "\n",
              "    .colab-df-convert {\n",
              "      background-color: #E8F0FE;\n",
              "      border: none;\n",
              "      border-radius: 50%;\n",
              "      cursor: pointer;\n",
              "      display: none;\n",
              "      fill: #1967D2;\n",
              "      height: 32px;\n",
              "      padding: 0 0 0 0;\n",
              "      width: 32px;\n",
              "    }\n",
              "\n",
              "    .colab-df-convert:hover {\n",
              "      background-color: #E2EBFA;\n",
              "      box-shadow: 0px 1px 2px rgba(60, 64, 67, 0.3), 0px 1px 3px 1px rgba(60, 64, 67, 0.15);\n",
              "      fill: #174EA6;\n",
              "    }\n",
              "\n",
              "    .colab-df-buttons div {\n",
              "      margin-bottom: 4px;\n",
              "    }\n",
              "\n",
              "    [theme=dark] .colab-df-convert {\n",
              "      background-color: #3B4455;\n",
              "      fill: #D2E3FC;\n",
              "    }\n",
              "\n",
              "    [theme=dark] .colab-df-convert:hover {\n",
              "      background-color: #434B5C;\n",
              "      box-shadow: 0px 1px 3px 1px rgba(0, 0, 0, 0.15);\n",
              "      filter: drop-shadow(0px 1px 2px rgba(0, 0, 0, 0.3));\n",
              "      fill: #FFFFFF;\n",
              "    }\n",
              "  </style>\n",
              "\n",
              "    <script>\n",
              "      const buttonEl =\n",
              "        document.querySelector('#df-5f039624-3137-487b-a31b-df119958e50b button.colab-df-convert');\n",
              "      buttonEl.style.display =\n",
              "        google.colab.kernel.accessAllowed ? 'block' : 'none';\n",
              "\n",
              "      async function convertToInteractive(key) {\n",
              "        const element = document.querySelector('#df-5f039624-3137-487b-a31b-df119958e50b');\n",
              "        const dataTable =\n",
              "          await google.colab.kernel.invokeFunction('convertToInteractive',\n",
              "                                                    [key], {});\n",
              "        if (!dataTable) return;\n",
              "\n",
              "        const docLinkHtml = 'Like what you see? Visit the ' +\n",
              "          '<a target=\"_blank\" href=https://colab.research.google.com/notebooks/data_table.ipynb>data table notebook</a>'\n",
              "          + ' to learn more about interactive tables.';\n",
              "        element.innerHTML = '';\n",
              "        dataTable['output_type'] = 'display_data';\n",
              "        await google.colab.output.renderOutput(dataTable, element);\n",
              "        const docLink = document.createElement('div');\n",
              "        docLink.innerHTML = docLinkHtml;\n",
              "        element.appendChild(docLink);\n",
              "      }\n",
              "    </script>\n",
              "  </div>\n",
              "\n",
              "\n",
              "<div id=\"df-c556a6c6-4cef-4ce7-abc6-6eb650d4cc91\">\n",
              "  <button class=\"colab-df-quickchart\" onclick=\"quickchart('df-c556a6c6-4cef-4ce7-abc6-6eb650d4cc91')\"\n",
              "            title=\"Suggest charts\"\n",
              "            style=\"display:none;\">\n",
              "\n",
              "<svg xmlns=\"http://www.w3.org/2000/svg\" height=\"24px\"viewBox=\"0 0 24 24\"\n",
              "     width=\"24px\">\n",
              "    <g>\n",
              "        <path d=\"M19 3H5c-1.1 0-2 .9-2 2v14c0 1.1.9 2 2 2h14c1.1 0 2-.9 2-2V5c0-1.1-.9-2-2-2zM9 17H7v-7h2v7zm4 0h-2V7h2v10zm4 0h-2v-4h2v4z\"/>\n",
              "    </g>\n",
              "</svg>\n",
              "  </button>\n",
              "\n",
              "<style>\n",
              "  .colab-df-quickchart {\n",
              "      --bg-color: #E8F0FE;\n",
              "      --fill-color: #1967D2;\n",
              "      --hover-bg-color: #E2EBFA;\n",
              "      --hover-fill-color: #174EA6;\n",
              "      --disabled-fill-color: #AAA;\n",
              "      --disabled-bg-color: #DDD;\n",
              "  }\n",
              "\n",
              "  [theme=dark] .colab-df-quickchart {\n",
              "      --bg-color: #3B4455;\n",
              "      --fill-color: #D2E3FC;\n",
              "      --hover-bg-color: #434B5C;\n",
              "      --hover-fill-color: #FFFFFF;\n",
              "      --disabled-bg-color: #3B4455;\n",
              "      --disabled-fill-color: #666;\n",
              "  }\n",
              "\n",
              "  .colab-df-quickchart {\n",
              "    background-color: var(--bg-color);\n",
              "    border: none;\n",
              "    border-radius: 50%;\n",
              "    cursor: pointer;\n",
              "    display: none;\n",
              "    fill: var(--fill-color);\n",
              "    height: 32px;\n",
              "    padding: 0;\n",
              "    width: 32px;\n",
              "  }\n",
              "\n",
              "  .colab-df-quickchart:hover {\n",
              "    background-color: var(--hover-bg-color);\n",
              "    box-shadow: 0 1px 2px rgba(60, 64, 67, 0.3), 0 1px 3px 1px rgba(60, 64, 67, 0.15);\n",
              "    fill: var(--button-hover-fill-color);\n",
              "  }\n",
              "\n",
              "  .colab-df-quickchart-complete:disabled,\n",
              "  .colab-df-quickchart-complete:disabled:hover {\n",
              "    background-color: var(--disabled-bg-color);\n",
              "    fill: var(--disabled-fill-color);\n",
              "    box-shadow: none;\n",
              "  }\n",
              "\n",
              "  .colab-df-spinner {\n",
              "    border: 2px solid var(--fill-color);\n",
              "    border-color: transparent;\n",
              "    border-bottom-color: var(--fill-color);\n",
              "    animation:\n",
              "      spin 1s steps(1) infinite;\n",
              "  }\n",
              "\n",
              "  @keyframes spin {\n",
              "    0% {\n",
              "      border-color: transparent;\n",
              "      border-bottom-color: var(--fill-color);\n",
              "      border-left-color: var(--fill-color);\n",
              "    }\n",
              "    20% {\n",
              "      border-color: transparent;\n",
              "      border-left-color: var(--fill-color);\n",
              "      border-top-color: var(--fill-color);\n",
              "    }\n",
              "    30% {\n",
              "      border-color: transparent;\n",
              "      border-left-color: var(--fill-color);\n",
              "      border-top-color: var(--fill-color);\n",
              "      border-right-color: var(--fill-color);\n",
              "    }\n",
              "    40% {\n",
              "      border-color: transparent;\n",
              "      border-right-color: var(--fill-color);\n",
              "      border-top-color: var(--fill-color);\n",
              "    }\n",
              "    60% {\n",
              "      border-color: transparent;\n",
              "      border-right-color: var(--fill-color);\n",
              "    }\n",
              "    80% {\n",
              "      border-color: transparent;\n",
              "      border-right-color: var(--fill-color);\n",
              "      border-bottom-color: var(--fill-color);\n",
              "    }\n",
              "    90% {\n",
              "      border-color: transparent;\n",
              "      border-bottom-color: var(--fill-color);\n",
              "    }\n",
              "  }\n",
              "</style>\n",
              "\n",
              "  <script>\n",
              "    async function quickchart(key) {\n",
              "      const quickchartButtonEl =\n",
              "        document.querySelector('#' + key + ' button');\n",
              "      quickchartButtonEl.disabled = true;  // To prevent multiple clicks.\n",
              "      quickchartButtonEl.classList.add('colab-df-spinner');\n",
              "      try {\n",
              "        const charts = await google.colab.kernel.invokeFunction(\n",
              "            'suggestCharts', [key], {});\n",
              "      } catch (error) {\n",
              "        console.error('Error during call to suggestCharts:', error);\n",
              "      }\n",
              "      quickchartButtonEl.classList.remove('colab-df-spinner');\n",
              "      quickchartButtonEl.classList.add('colab-df-quickchart-complete');\n",
              "    }\n",
              "    (() => {\n",
              "      let quickchartButtonEl =\n",
              "        document.querySelector('#df-c556a6c6-4cef-4ce7-abc6-6eb650d4cc91 button');\n",
              "      quickchartButtonEl.style.display =\n",
              "        google.colab.kernel.accessAllowed ? 'block' : 'none';\n",
              "    })();\n",
              "  </script>\n",
              "</div>\n",
              "\n",
              "  <div id=\"id_c2ebfd5c-2a1a-4c91-8a05-8fe760371a60\">\n",
              "    <style>\n",
              "      .colab-df-generate {\n",
              "        background-color: #E8F0FE;\n",
              "        border: none;\n",
              "        border-radius: 50%;\n",
              "        cursor: pointer;\n",
              "        display: none;\n",
              "        fill: #1967D2;\n",
              "        height: 32px;\n",
              "        padding: 0 0 0 0;\n",
              "        width: 32px;\n",
              "      }\n",
              "\n",
              "      .colab-df-generate:hover {\n",
              "        background-color: #E2EBFA;\n",
              "        box-shadow: 0px 1px 2px rgba(60, 64, 67, 0.3), 0px 1px 3px 1px rgba(60, 64, 67, 0.15);\n",
              "        fill: #174EA6;\n",
              "      }\n",
              "\n",
              "      [theme=dark] .colab-df-generate {\n",
              "        background-color: #3B4455;\n",
              "        fill: #D2E3FC;\n",
              "      }\n",
              "\n",
              "      [theme=dark] .colab-df-generate:hover {\n",
              "        background-color: #434B5C;\n",
              "        box-shadow: 0px 1px 3px 1px rgba(0, 0, 0, 0.15);\n",
              "        filter: drop-shadow(0px 1px 2px rgba(0, 0, 0, 0.3));\n",
              "        fill: #FFFFFF;\n",
              "      }\n",
              "    </style>\n",
              "    <button class=\"colab-df-generate\" onclick=\"generateWithVariable('df_concat')\"\n",
              "            title=\"Generate code using this dataframe.\"\n",
              "            style=\"display:none;\">\n",
              "\n",
              "  <svg xmlns=\"http://www.w3.org/2000/svg\" height=\"24px\"viewBox=\"0 0 24 24\"\n",
              "       width=\"24px\">\n",
              "    <path d=\"M7,19H8.4L18.45,9,17,7.55,7,17.6ZM5,21V16.75L18.45,3.32a2,2,0,0,1,2.83,0l1.4,1.43a1.91,1.91,0,0,1,.58,1.4,1.91,1.91,0,0,1-.58,1.4L9.25,21ZM18.45,9,17,7.55Zm-12,3A5.31,5.31,0,0,0,4.9,8.1,5.31,5.31,0,0,0,1,6.5,5.31,5.31,0,0,0,4.9,4.9,5.31,5.31,0,0,0,6.5,1,5.31,5.31,0,0,0,8.1,4.9,5.31,5.31,0,0,0,12,6.5,5.46,5.46,0,0,0,6.5,12Z\"/>\n",
              "  </svg>\n",
              "    </button>\n",
              "    <script>\n",
              "      (() => {\n",
              "      const buttonEl =\n",
              "        document.querySelector('#id_c2ebfd5c-2a1a-4c91-8a05-8fe760371a60 button.colab-df-generate');\n",
              "      buttonEl.style.display =\n",
              "        google.colab.kernel.accessAllowed ? 'block' : 'none';\n",
              "\n",
              "      buttonEl.onclick = () => {\n",
              "        google.colab.notebook.generateWithVariable('df_concat');\n",
              "      }\n",
              "      })();\n",
              "    </script>\n",
              "  </div>\n",
              "\n",
              "    </div>\n",
              "  </div>\n"
            ]
          },
          "metadata": {},
          "execution_count": 162
        }
      ]
    },
    {
      "cell_type": "code",
      "source": [
        "x  = df_concat.drop(['Label'],axis=1)\n",
        "y  = np.ravel(df_concat.iloc[:, -1].values.reshape(-1,1))\n",
        "\n",
        "n_components = len(np.unique(y))-1"
      ],
      "metadata": {
        "id": "RJikeFrp3X3w"
      },
      "execution_count": null,
      "outputs": []
    },
    {
      "cell_type": "markdown",
      "source": [
        "## Backward Elimination"
      ],
      "metadata": {
        "id": "cCW80q1bA7Nd"
      }
    },
    {
      "cell_type": "code",
      "source": [
        "from sklearn.feature_selection import RFE\n",
        "from sklearn.linear_model import LogisticRegression\n",
        "from yellowbrick.model_selection import feature_importances\n",
        "\n",
        "n_features_to_select = x.shape[1]//2\n",
        "#n_features_to_select = 30\n",
        "\n",
        "estimator = RandomForestClassifier(n_estimators=20)\n",
        "selector = RFE(estimator, n_features_to_select = n_features_to_select, step=1)\n",
        "selector.fit(x, y)\n",
        "X_selected = selector.transform(x)\n",
        "# pd.DataFrame(X_selected).to_csv('/content/gdrive/MyDrive/ISO-IDS/KDD/Output/RFE_features.csv')"
      ],
      "metadata": {
        "id": "jSBXdo-WIasp"
      },
      "execution_count": null,
      "outputs": []
    },
    {
      "cell_type": "code",
      "source": [
        "X_selected = pd.DataFrame(X_selected, columns = x.columns[selector.support_])\n",
        "selected_features = list(x.columns[selector.support_])\n",
        "print(f'>>> Important selected features are:')\n",
        "_ = [print(f) for f in selected_features]"
      ],
      "metadata": {
        "colab": {
          "base_uri": "https://localhost:8080/"
        },
        "id": "ECVLltOtSiw5",
        "outputId": "55c87a2f-9cdc-411d-8c38-ad162b39c426"
      },
      "execution_count": null,
      "outputs": [
        {
          "output_type": "stream",
          "name": "stdout",
          "text": [
            ">>> Important selected features are:\n",
            "id\n",
            "duration\n",
            "src_bytes\n",
            "dst_bytes\n",
            "hot\n",
            "logged_in\n",
            "count\n",
            "srv_count\n",
            "same_srv_rate\n",
            "dst_host_count\n",
            "dst_host_srv_count\n",
            "dst_host_same_srv_rate\n",
            "dst_host_diff_srv_rate\n",
            "dst_host_same_src_port_rate\n",
            "dst_host_srv_diff_host_rate\n",
            "dst_host_serror_rate\n",
            "dst_host_rerror_rate\n",
            "dst_host_srv_rerror_rate\n",
            "protocol_type\n",
            "service\n",
            "flag\n"
          ]
        }
      ]
    },
    {
      "cell_type": "code",
      "source": [
        "def LDA(data, labels, n = n_components):\n",
        "  print(\">>> Linear Discriminant Analysis:\")\n",
        "  clf = LinearDiscriminantAnalysis(n_components=n)\n",
        "  clf.fit(data, labels)\n",
        "  features = clf.transform(data)\n",
        "  coef = clf.coef_[0]\n",
        "  importances = np.argsort(np.abs(coef))[::-1]\n",
        "  print(f\"\\t# of components: {n}\\n\\t# of Seen Features: {clf.n_features_in_}\\n\\tOriginal: {data.shape}\\n\\tReduced:  {features.shape}\\n\\tClasses:  {clf.classes_}\\n\\tVariation: {clf.explained_variance_ratio_} = {np.sum(clf.explained_variance_ratio_)}\")\n",
        "  return features, importances\n",
        "\n",
        "X_lda, importances = LDA(X_selected, y)"
      ],
      "metadata": {
        "id": "Tm_57dccoYnK",
        "colab": {
          "base_uri": "https://localhost:8080/"
        },
        "outputId": "a5ac7d34-79a5-450d-8d1a-673e2c7335aa"
      },
      "execution_count": null,
      "outputs": [
        {
          "output_type": "stream",
          "name": "stdout",
          "text": [
            ">>> Linear Discriminant Analysis:\n",
            "\t# of components: 1\n",
            "\t# of Seen Features: 21\n",
            "\tOriginal: (148517, 21)\n",
            "\tReduced:  (148517, 1)\n",
            "\tClasses:  [0. 1.]\n",
            "\tVariation: [1.] = 1.0\n"
          ]
        }
      ]
    },
    {
      "cell_type": "code",
      "source": [
        "important_features = sorted([i for i in zip(selected_features, importances)], key = lambda x:x[1], reverse=True)\n",
        "k_top_features = [item[0] for item in important_features[:18]]"
      ],
      "metadata": {
        "id": "bwL025BmSq-B"
      },
      "execution_count": null,
      "outputs": []
    },
    {
      "cell_type": "code",
      "source": [
        "k_top_features"
      ],
      "metadata": {
        "colab": {
          "base_uri": "https://localhost:8080/"
        },
        "id": "R2gYohn_WgRb",
        "outputId": "4807d37a-f69d-4985-c904-192e10b67d4d"
      },
      "execution_count": null,
      "outputs": [
        {
          "output_type": "execute_result",
          "data": {
            "text/plain": [
              "['dst_host_srv_rerror_rate',\n",
              " 'service',\n",
              " 'id',\n",
              " 'dst_host_same_srv_rate',\n",
              " 'count',\n",
              " 'duration',\n",
              " 'dst_host_diff_srv_rate',\n",
              " 'same_srv_rate',\n",
              " 'dst_host_srv_diff_host_rate',\n",
              " 'logged_in',\n",
              " 'src_bytes',\n",
              " 'srv_count',\n",
              " 'hot',\n",
              " 'dst_host_same_src_port_rate',\n",
              " 'dst_host_serror_rate',\n",
              " 'dst_bytes',\n",
              " 'dst_host_srv_count',\n",
              " 'flag']"
            ]
          },
          "metadata": {},
          "execution_count": 168
        }
      ]
    },
    {
      "cell_type": "code",
      "execution_count": null,
      "metadata": {
        "id": "6CRN6V-OoNkf"
      },
      "outputs": [],
      "source": [
        "X_train, X_test, y_train, y_test = train_test_split(x[k_top_features], y, train_size = 0.8, test_size = 0.2, random_state = 0,stratify = y)\n",
        "# X_train, X_test, y_train, y_test = x1, x2, y1, y2"
      ]
    },
    {
      "cell_type": "markdown",
      "metadata": {
        "id": "16Sv66h8Pf8O"
      },
      "source": [
        "Training two base learners: Random Forest and KNN"
      ]
    },
    {
      "cell_type": "code",
      "source": [
        "# Random Forest training and prediction\n",
        "rf = RandomForestClassifier(n_estimators=20, random_state = 0)\n",
        "rf.fit(X_train,y_train)\n",
        "rf_score=rf.score(X_test,y_test)\n",
        "y_predict_rf=rf.predict(X_test)\n",
        "y_predict_prob_rf = rf.predict_proba(X_test)"
      ],
      "metadata": {
        "id": "Jpp2tGNtzBzf"
      },
      "execution_count": null,
      "outputs": []
    },
    {
      "cell_type": "code",
      "execution_count": null,
      "metadata": {
        "id": "L0nDjRbPPrB6",
        "colab": {
          "base_uri": "https://localhost:8080/",
          "height": 850
        },
        "outputId": "c0aa5008-7131-4a68-b6ad-444b9faec298"
      },
      "outputs": [
        {
          "output_type": "stream",
          "name": "stdout",
          "text": [
            "Accuracy of RandomForestClassifier(n_estimators=20, random_state=0): 0.9961284675464583\n",
            "Precision of RandomForestClassifier(n_estimators=20, random_state=0): 0.9961287384028551\n",
            "Recall of RandomForestClassifier(n_estimators=20, random_state=0): 0.9961284675464583\n",
            "F1-score of RandomForestClassifier(n_estimators=20, random_state=0): 0.9961285114028479\n",
            "              precision    recall  f1-score   support\n",
            "\n",
            "         0.0       1.00      1.00      1.00     14293\n",
            "         1.0       1.00      1.00      1.00     15411\n",
            "\n",
            "    accuracy                           1.00     29704\n",
            "   macro avg       1.00      1.00      1.00     29704\n",
            "weighted avg       1.00      1.00      1.00     29704\n",
            "\n"
          ]
        },
        {
          "output_type": "display_data",
          "data": {
            "text/plain": [
              "<Figure size 700x700 with 2 Axes>"
            ],
            "image/png": "[encoded data removed]"
          },
          "metadata": {}
        }
      ],
      "source": [
        "visualize(rf, y_predict_rf, y_test)"
      ]
    },
    {
      "cell_type": "code",
      "source": [
        "#  k-Nearest Neighbors (kNN) training and prediction\n",
        "from sklearn.neighbors import KNeighborsClassifier\n",
        "knn = KNeighborsClassifier(n_neighbors=3)\n",
        "knn.fit(X_train, y_train)\n",
        "y_predict_knn = knn.predict(X_test)\n",
        "knn_score=knn.score(X_test,y_test)\n",
        "y_predict_prob_knn = knn.predict_proba(X_test)\n",
        "distances, indices = knn.kneighbors(X_test)\n",
        "# pd.DataFrame(y_predict_knn).to_csv('/content/gdrive/MyDrive/ISO-IDS/KDD/Output/y_predict_knn.csv')"
      ],
      "metadata": {
        "id": "IYYCj-Vzxb4i"
      },
      "execution_count": null,
      "outputs": []
    },
    {
      "cell_type": "code",
      "execution_count": null,
      "metadata": {
        "id": "szt09zECjYWu",
        "colab": {
          "base_uri": "https://localhost:8080/",
          "height": 850
        },
        "outputId": "a5cbffee-ad08-45aa-8d5d-13e82432fc50"
      },
      "outputs": [
        {
          "output_type": "stream",
          "name": "stdout",
          "text": [
            "Accuracy of KNeighborsClassifier(n_neighbors=3): 0.9897656881228117\n",
            "Precision of KNeighborsClassifier(n_neighbors=3): 0.9897715864377764\n",
            "Recall of KNeighborsClassifier(n_neighbors=3): 0.9897656881228117\n",
            "F1-score of KNeighborsClassifier(n_neighbors=3): 0.9897662608494797\n",
            "              precision    recall  f1-score   support\n",
            "\n",
            "         0.0       1.00      1.00      1.00     14293\n",
            "         1.0       1.00      1.00      1.00     15411\n",
            "\n",
            "    accuracy                           1.00     29704\n",
            "   macro avg       1.00      1.00      1.00     29704\n",
            "weighted avg       1.00      1.00      1.00     29704\n",
            "\n"
          ]
        },
        {
          "output_type": "display_data",
          "data": {
            "text/plain": [
              "<Figure size 700x700 with 2 Axes>"
            ],
            "image/png": "[encoded data removed]"
          },
          "metadata": {}
        }
      ],
      "source": [
        "visualize(knn, y_predict_knn, y_test)"
      ]
    },
    {
      "cell_type": "markdown",
      "metadata": {
        "id": "BUCT-ELPADeW"
      },
      "source": [
        "# New Section"
      ]
    },
    {
      "cell_type": "markdown",
      "metadata": {
        "id": "oSRRkK0UWC8h"
      },
      "source": [
        "Aggregation of Classifiers based on ISO 27001"
      ]
    },
    {
      "cell_type": "markdown",
      "source": [
        "### ISO"
      ],
      "metadata": {
        "id": "H8VAQIya7yck"
      }
    },
    {
      "cell_type": "code",
      "source": [
        "y_final = []\n",
        "\n",
        "for i in range(len(y_predict_rf)):\n",
        "  t = (y_predict_knn[i], y_predict_rf[i])\n",
        "  i = np.nonzero(t)\n",
        "  y_final.append(t[i[0][0]] if len(i[0]) > 0 else 0)\n",
        "y_final = np.array(y_final)\n",
        "\n",
        "ac=len(np.array(y_final)[np.array(y_final == y_test).astype(bool)])/len(y_final)\n",
        "precision,recall,fscore,none= precision_recall_fscore_support(y_test, y_final, average='weighted')\n",
        "print(f'{ac*100:.2f}%')"
      ],
      "metadata": {
        "colab": {
          "base_uri": "https://localhost:8080/"
        },
        "id": "mVP1JreR7HS7",
        "outputId": "af1ff048-1d98-49df-8e14-2562199235e1"
      },
      "execution_count": null,
      "outputs": [
        {
          "output_type": "stream",
          "name": "stdout",
          "text": [
            "99.37%\n"
          ]
        }
      ]
    },
    {
      "cell_type": "code",
      "source": [
        "y_final = []\n",
        "\n",
        "for i in range(len(y_predict_rf)):\n",
        "  if y_predict_knn[i] == 1 or y_predict_rf[i] == 1:\n",
        "    y_final.append(1)\n",
        "  else:\n",
        "    y_final.append(y_predict_knn[i])\n",
        "y_final = np.array(y_final)\n",
        "\n",
        "ac=len(np.array(y_final)[np.array(y_final == y_test).astype(bool)])/len(y_final)\n",
        "precision,recall,fscore,none= precision_recall_fscore_support(y_test, y_final, average='weighted')\n",
        "print(f'{ac*100:.2f}%')"
      ],
      "metadata": {
        "colab": {
          "base_uri": "https://localhost:8080/"
        },
        "id": "YyrbGtlMSTeI",
        "outputId": "b129cfa2-cda1-4c5b-d4ce-263f13e763bc"
      },
      "execution_count": null,
      "outputs": [
        {
          "output_type": "stream",
          "name": "stdout",
          "text": [
            "99.37%\n"
          ]
        }
      ]
    },
    {
      "cell_type": "code",
      "source": [
        "a1 = len([a for a in zip(y_final, y_test) if a[1] == 1])\n",
        "a1"
      ],
      "metadata": {
        "colab": {
          "base_uri": "https://localhost:8080/"
        },
        "id": "PJYSpICkRMj9",
        "outputId": "f816c5bb-9b63-403a-b6b4-fe1e13b8c2da"
      },
      "execution_count": null,
      "outputs": [
        {
          "output_type": "execute_result",
          "data": {
            "text/plain": [
              "15411"
            ]
          },
          "metadata": {},
          "execution_count": 180
        }
      ]
    },
    {
      "cell_type": "code",
      "source": [
        "a2 = len([a for a in zip(y_final, y_test) if a[0] == 0 and a[1] == 1])\n",
        "a2"
      ],
      "metadata": {
        "colab": {
          "base_uri": "https://localhost:8080/"
        },
        "id": "l8xhgO0QS4VO",
        "outputId": "e75b3da0-d87a-4884-dfe2-9a15a952adf9"
      },
      "execution_count": null,
      "outputs": [
        {
          "output_type": "execute_result",
          "data": {
            "text/plain": [
              "38"
            ]
          },
          "metadata": {},
          "execution_count": 181
        }
      ]
    },
    {
      "cell_type": "code",
      "source": [
        "a2/a1*100"
      ],
      "metadata": {
        "colab": {
          "base_uri": "https://localhost:8080/"
        },
        "id": "ZmrvDikkToqd",
        "outputId": "27c4c087-9df9-466f-c616-940aa08ebf2b"
      },
      "execution_count": null,
      "outputs": [
        {
          "output_type": "execute_result",
          "data": {
            "text/plain": [
              "0.2465771202387905"
            ]
          },
          "metadata": {},
          "execution_count": 182
        }
      ]
    },
    {
      "cell_type": "code",
      "source": [
        "error = len([p[0] for p in zip(y_predict_knn, y_predict_rf, y_test) if p[0] != p[2] and p[1] != p[2] and p[2] == 1])\n",
        "# knn_w = len([p[0] for p in zip(y_predict_knn, y_predict_rf, y_test) if p[0] != p[2] and p[2] == 1]) / a * 100\n",
        "# rf_w  = len([p[0] for p in zip(y_predict_knn, y_predict_rf, y_test) if p[1] != p[2] and p[2] == 1]) / a * 100\n",
        "y_w   = len([p[0] for p in zip(y_final, y_test) if p[0] != p[1] and p[1] == 1]) / a * 100\n",
        "print(y_w)"
      ],
      "metadata": {
        "colab": {
          "base_uri": "https://localhost:8080/"
        },
        "id": "ZUtGPQYBOg6a",
        "outputId": "e2a2bd1c-d06a-47e7-851c-86d27f3a3934"
      },
      "execution_count": null,
      "outputs": [
        {
          "output_type": "stream",
          "name": "stdout",
          "text": [
            "0.24512966068894337\n"
          ]
        }
      ]
    },
    {
      "cell_type": "code",
      "source": [
        "from functools import cmp_to_key\n",
        "# I corrected the print instractions\n",
        "print('Accuracy of proposed method: '+ (str(ac)))\n",
        "print('Precision of proposed method: '+ (str(precision)))\n",
        "print('Recall of proposed method: '+ (str(recall)))\n",
        "print('F1-score of proposed method: '+ (str(fscore)))\n",
        "\n",
        "# Same as before without any modifications\n",
        "# y_dec = label_decoder(y, labelencoder_label)\n",
        "y_dec = y_final\n",
        "cm = confusion_matrix(y_test, y_dec)\n",
        "f,ax=plt.subplots(figsize=(7,7))\n",
        "sns.heatmap(cm,annot=True,linewidth=0.5,linecolor=\"green\",fmt=\".0f\",ax=ax, cmap='Blues')\n",
        "plt.xlabel(\"Prediction\")\n",
        "plt.ylabel(\"True Lable\")\n",
        "\n",
        "\n",
        "ax.tick_params(axis='both', which='major', labelsize=9)\n",
        "ax.xaxis.set_ticklabels(np.unique(y_test));\n",
        "ax.yaxis.set_ticklabels(np.unique(y_dec));\n",
        "\n",
        "plt.setp(ax.get_xticklabels(), rotation=45, ha=\"right\", rotation_mode=\"anchor\")\n",
        "plt.setp(ax.get_yticklabels(), rotation=45, ha=\"right\", rotation_mode=\"anchor\")\n",
        "plt.show()"
      ],
      "metadata": {
        "colab": {
          "base_uri": "https://localhost:8080/",
          "height": 697
        },
        "id": "gBeQ1NRs7miS",
        "outputId": "a58608a9-619e-40f7-c137-9850025f2aa8"
      },
      "execution_count": null,
      "outputs": [
        {
          "output_type": "stream",
          "name": "stdout",
          "text": [
            "Accuracy of proposed method: 0.9937382170751414\n",
            "Precision of proposed method: 0.9937636070043928\n",
            "Recall of proposed method: 0.9937382170751414\n",
            "F1-score of proposed method: 0.9937372567858759\n"
          ]
        },
        {
          "output_type": "display_data",
          "data": {
            "text/plain": [
              "<Figure size 700x700 with 2 Axes>"
            ],
            "image/png": "[encoded data removed]"
          },
          "metadata": {}
        }
      ]
    }
  ],
  "metadata": {
    "colab": {
      "provenance": []
    },
    "kernelspec": {
      "display_name": "Python 3",
      "name": "python3"
    },
    "language_info": {
      "name": "python"
    }
  },
  "nbformat": 4,
  "nbformat_minor": 0
}